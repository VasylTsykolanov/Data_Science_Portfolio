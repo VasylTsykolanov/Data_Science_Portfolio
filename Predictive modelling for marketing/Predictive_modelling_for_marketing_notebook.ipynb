{
 "cells": [
  {
   "cell_type": "code",
   "execution_count": 21,
   "metadata": {},
   "outputs": [],
   "source": [
    "#Import libraries\n",
    "import numpy as np\n",
    "import pandas as pd\n",
    "import scipy.stats\n",
    "import seaborn as sns\n",
    "from datetime import datetime\n",
    "import matplotlib.pyplot as plt\n",
    "from scipy.stats import chi2_contingency\n",
    "\n",
    "from sklearn.model_selection import train_test_split\n",
    "from sklearn.preprocessing import LabelEncoder\n",
    "from sklearn.ensemble import RandomForestClassifier\n",
    "from sklearn.ensemble import GradientBoostingClassifier\n",
    "from sklearn.ensemble import ExtraTreesClassifier\n",
    "from sklearn.metrics import classification_report, confusion_matrix, accuracy_score"
   ]
  },
  {
   "cell_type": "code",
   "execution_count": 22,
   "metadata": {},
   "outputs": [],
   "source": [
    "#data import\n",
    "data = pd.read_excel(\"C:/Users/I347687/Desktop/Git/Store_Campaign.xlsx\", sheet_name='Sheet1',\n",
    "                     header=0, converters = {'Custid': str,\n",
    "                                             'AcceptedCmp1': str,\n",
    "                                             'AcceptedCmp2': str,\n",
    "                                             'AcceptedCmp3': str,\n",
    "                                             'AcceptedCmp4': str,\n",
    "                                             'AcceptedCmp5': str,\n",
    "                                             'Complain': str,\n",
    "                                             'Year_Birth': str, \n",
    "                                             'DepVar': str})\n",
    "#Drop not unnecessary data and convertions\n",
    "del data['Z_CostContact']\n",
    "del data['Z_Revenue']\n",
    "data.rename(columns={'MntBrandA _Material': 'MntBrandA_Material'}, inplace=True)"
   ]
  },
  {
   "cell_type": "code",
   "execution_count": 23,
   "metadata": {},
   "outputs": [
    {
     "data": {
      "text/html": [
       "<div>\n",
       "<style scoped>\n",
       "    .dataframe tbody tr th:only-of-type {\n",
       "        vertical-align: middle;\n",
       "    }\n",
       "\n",
       "    .dataframe tbody tr th {\n",
       "        vertical-align: top;\n",
       "    }\n",
       "\n",
       "    .dataframe thead th {\n",
       "        text-align: right;\n",
       "    }\n",
       "</style>\n",
       "<table border=\"1\" class=\"dataframe\">\n",
       "  <thead>\n",
       "    <tr style=\"text-align: right;\">\n",
       "      <th></th>\n",
       "      <th>Custid</th>\n",
       "      <th>Year_Birth</th>\n",
       "      <th>Education</th>\n",
       "      <th>Marital_Status</th>\n",
       "      <th>Income</th>\n",
       "      <th>Kidhome</th>\n",
       "      <th>Teenhome</th>\n",
       "      <th>Dt_Customer</th>\n",
       "      <th>Recency</th>\n",
       "      <th>MntMiniatures</th>\n",
       "      <th>...</th>\n",
       "      <th>NumCatalogPurchases</th>\n",
       "      <th>NumStorePurchases</th>\n",
       "      <th>NumWebVisitsMonth</th>\n",
       "      <th>AcceptedCmp2</th>\n",
       "      <th>AcceptedCmp3</th>\n",
       "      <th>AcceptedCmp4</th>\n",
       "      <th>AcceptedCmp5</th>\n",
       "      <th>AcceptedCmp1</th>\n",
       "      <th>Complain</th>\n",
       "      <th>DepVar</th>\n",
       "    </tr>\n",
       "  </thead>\n",
       "  <tbody>\n",
       "    <tr>\n",
       "      <th>0</th>\n",
       "      <td>240003127</td>\n",
       "      <td>1958</td>\n",
       "      <td>PhD</td>\n",
       "      <td>Divorced</td>\n",
       "      <td>101721.0</td>\n",
       "      <td>0</td>\n",
       "      <td>0</td>\n",
       "      <td>2016-04-17</td>\n",
       "      <td>6</td>\n",
       "      <td>845</td>\n",
       "      <td>...</td>\n",
       "      <td>4</td>\n",
       "      <td>9</td>\n",
       "      <td>1</td>\n",
       "      <td>0</td>\n",
       "      <td>0</td>\n",
       "      <td>0</td>\n",
       "      <td>0</td>\n",
       "      <td>0</td>\n",
       "      <td>0</td>\n",
       "      <td>0</td>\n",
       "    </tr>\n",
       "    <tr>\n",
       "      <th>1</th>\n",
       "      <td>240003139</td>\n",
       "      <td>1971</td>\n",
       "      <td>PhD</td>\n",
       "      <td>Together</td>\n",
       "      <td>20148.0</td>\n",
       "      <td>1</td>\n",
       "      <td>1</td>\n",
       "      <td>2015-10-31</td>\n",
       "      <td>65</td>\n",
       "      <td>26</td>\n",
       "      <td>...</td>\n",
       "      <td>3</td>\n",
       "      <td>4</td>\n",
       "      <td>9</td>\n",
       "      <td>1</td>\n",
       "      <td>0</td>\n",
       "      <td>0</td>\n",
       "      <td>0</td>\n",
       "      <td>0</td>\n",
       "      <td>0</td>\n",
       "      <td>1</td>\n",
       "    </tr>\n",
       "    <tr>\n",
       "      <th>2</th>\n",
       "      <td>240003160</td>\n",
       "      <td>1969</td>\n",
       "      <td>2n Cycle</td>\n",
       "      <td>Married</td>\n",
       "      <td>86028.0</td>\n",
       "      <td>0</td>\n",
       "      <td>0</td>\n",
       "      <td>2016-03-14</td>\n",
       "      <td>54</td>\n",
       "      <td>379</td>\n",
       "      <td>...</td>\n",
       "      <td>8</td>\n",
       "      <td>9</td>\n",
       "      <td>3</td>\n",
       "      <td>1</td>\n",
       "      <td>0</td>\n",
       "      <td>0</td>\n",
       "      <td>1</td>\n",
       "      <td>0</td>\n",
       "      <td>0</td>\n",
       "      <td>0</td>\n",
       "    </tr>\n",
       "    <tr>\n",
       "      <th>3</th>\n",
       "      <td>240003163</td>\n",
       "      <td>1952</td>\n",
       "      <td>Graduation</td>\n",
       "      <td>Together</td>\n",
       "      <td>5220.0</td>\n",
       "      <td>1</td>\n",
       "      <td>1</td>\n",
       "      <td>2016-04-21</td>\n",
       "      <td>28</td>\n",
       "      <td>7</td>\n",
       "      <td>...</td>\n",
       "      <td>0</td>\n",
       "      <td>0</td>\n",
       "      <td>20</td>\n",
       "      <td>0</td>\n",
       "      <td>0</td>\n",
       "      <td>0</td>\n",
       "      <td>0</td>\n",
       "      <td>0</td>\n",
       "      <td>0</td>\n",
       "      <td>0</td>\n",
       "    </tr>\n",
       "    <tr>\n",
       "      <th>4</th>\n",
       "      <td>240003166</td>\n",
       "      <td>1974</td>\n",
       "      <td>PhD</td>\n",
       "      <td>Together</td>\n",
       "      <td>45261.0</td>\n",
       "      <td>1</td>\n",
       "      <td>0</td>\n",
       "      <td>2014-11-24</td>\n",
       "      <td>31</td>\n",
       "      <td>9</td>\n",
       "      <td>...</td>\n",
       "      <td>2</td>\n",
       "      <td>3</td>\n",
       "      <td>9</td>\n",
       "      <td>0</td>\n",
       "      <td>0</td>\n",
       "      <td>0</td>\n",
       "      <td>0</td>\n",
       "      <td>0</td>\n",
       "      <td>0</td>\n",
       "      <td>0</td>\n",
       "    </tr>\n",
       "    <tr>\n",
       "      <th>5</th>\n",
       "      <td>240003175</td>\n",
       "      <td>1975</td>\n",
       "      <td>2n Cycle</td>\n",
       "      <td>Single</td>\n",
       "      <td>101489.0</td>\n",
       "      <td>0</td>\n",
       "      <td>0</td>\n",
       "      <td>2015-06-05</td>\n",
       "      <td>72</td>\n",
       "      <td>387</td>\n",
       "      <td>...</td>\n",
       "      <td>13</td>\n",
       "      <td>12</td>\n",
       "      <td>5</td>\n",
       "      <td>0</td>\n",
       "      <td>0</td>\n",
       "      <td>0</td>\n",
       "      <td>0</td>\n",
       "      <td>0</td>\n",
       "      <td>0</td>\n",
       "      <td>1</td>\n",
       "    </tr>\n",
       "    <tr>\n",
       "      <th>6</th>\n",
       "      <td>240003181</td>\n",
       "      <td>1986</td>\n",
       "      <td>2n Cycle</td>\n",
       "      <td>Married</td>\n",
       "      <td>36850.0</td>\n",
       "      <td>1</td>\n",
       "      <td>0</td>\n",
       "      <td>2016-05-21</td>\n",
       "      <td>67</td>\n",
       "      <td>15</td>\n",
       "      <td>...</td>\n",
       "      <td>2</td>\n",
       "      <td>5</td>\n",
       "      <td>6</td>\n",
       "      <td>0</td>\n",
       "      <td>0</td>\n",
       "      <td>0</td>\n",
       "      <td>0</td>\n",
       "      <td>0</td>\n",
       "      <td>0</td>\n",
       "      <td>0</td>\n",
       "    </tr>\n",
       "    <tr>\n",
       "      <th>7</th>\n",
       "      <td>240003202</td>\n",
       "      <td>1953</td>\n",
       "      <td>Master</td>\n",
       "      <td>Together</td>\n",
       "      <td>53625.0</td>\n",
       "      <td>1</td>\n",
       "      <td>1</td>\n",
       "      <td>2015-02-17</td>\n",
       "      <td>99</td>\n",
       "      <td>45</td>\n",
       "      <td>...</td>\n",
       "      <td>2</td>\n",
       "      <td>4</td>\n",
       "      <td>7</td>\n",
       "      <td>0</td>\n",
       "      <td>0</td>\n",
       "      <td>0</td>\n",
       "      <td>0</td>\n",
       "      <td>0</td>\n",
       "      <td>0</td>\n",
       "      <td>0</td>\n",
       "    </tr>\n",
       "    <tr>\n",
       "      <th>8</th>\n",
       "      <td>240003262</td>\n",
       "      <td>1983</td>\n",
       "      <td>Graduation</td>\n",
       "      <td>Together</td>\n",
       "      <td>42315.0</td>\n",
       "      <td>1</td>\n",
       "      <td>0</td>\n",
       "      <td>2015-01-13</td>\n",
       "      <td>81</td>\n",
       "      <td>193</td>\n",
       "      <td>...</td>\n",
       "      <td>5</td>\n",
       "      <td>7</td>\n",
       "      <td>9</td>\n",
       "      <td>0</td>\n",
       "      <td>0</td>\n",
       "      <td>0</td>\n",
       "      <td>0</td>\n",
       "      <td>0</td>\n",
       "      <td>0</td>\n",
       "      <td>0</td>\n",
       "    </tr>\n",
       "    <tr>\n",
       "      <th>9</th>\n",
       "      <td>240003265</td>\n",
       "      <td>1971</td>\n",
       "      <td>PhD</td>\n",
       "      <td>Together</td>\n",
       "      <td>81757.0</td>\n",
       "      <td>0</td>\n",
       "      <td>1</td>\n",
       "      <td>2015-12-17</td>\n",
       "      <td>56</td>\n",
       "      <td>372</td>\n",
       "      <td>...</td>\n",
       "      <td>4</td>\n",
       "      <td>10</td>\n",
       "      <td>5</td>\n",
       "      <td>0</td>\n",
       "      <td>0</td>\n",
       "      <td>0</td>\n",
       "      <td>0</td>\n",
       "      <td>0</td>\n",
       "      <td>0</td>\n",
       "      <td>0</td>\n",
       "    </tr>\n",
       "  </tbody>\n",
       "</table>\n",
       "<p>10 rows × 27 columns</p>\n",
       "</div>"
      ],
      "text/plain": [
       "      Custid Year_Birth   Education Marital_Status    Income  Kidhome  \\\n",
       "0  240003127       1958         PhD       Divorced  101721.0        0   \n",
       "1  240003139       1971         PhD       Together   20148.0        1   \n",
       "2  240003160       1969    2n Cycle        Married   86028.0        0   \n",
       "3  240003163       1952  Graduation       Together    5220.0        1   \n",
       "4  240003166       1974         PhD       Together   45261.0        1   \n",
       "5  240003175       1975    2n Cycle         Single  101489.0        0   \n",
       "6  240003181       1986    2n Cycle        Married   36850.0        1   \n",
       "7  240003202       1953      Master       Together   53625.0        1   \n",
       "8  240003262       1983  Graduation       Together   42315.0        1   \n",
       "9  240003265       1971         PhD       Together   81757.0        0   \n",
       "\n",
       "   Teenhome Dt_Customer  Recency  MntMiniatures  ...  NumCatalogPurchases  \\\n",
       "0         0  2016-04-17        6            845  ...                    4   \n",
       "1         1  2015-10-31       65             26  ...                    3   \n",
       "2         0  2016-03-14       54            379  ...                    8   \n",
       "3         1  2016-04-21       28              7  ...                    0   \n",
       "4         0  2014-11-24       31              9  ...                    2   \n",
       "5         0  2015-06-05       72            387  ...                   13   \n",
       "6         0  2016-05-21       67             15  ...                    2   \n",
       "7         1  2015-02-17       99             45  ...                    2   \n",
       "8         0  2015-01-13       81            193  ...                    5   \n",
       "9         1  2015-12-17       56            372  ...                    4   \n",
       "\n",
       "   NumStorePurchases  NumWebVisitsMonth  AcceptedCmp2  AcceptedCmp3  \\\n",
       "0                  9                  1             0             0   \n",
       "1                  4                  9             1             0   \n",
       "2                  9                  3             1             0   \n",
       "3                  0                 20             0             0   \n",
       "4                  3                  9             0             0   \n",
       "5                 12                  5             0             0   \n",
       "6                  5                  6             0             0   \n",
       "7                  4                  7             0             0   \n",
       "8                  7                  9             0             0   \n",
       "9                 10                  5             0             0   \n",
       "\n",
       "   AcceptedCmp4  AcceptedCmp5  AcceptedCmp1  Complain  DepVar  \n",
       "0             0             0             0         0       0  \n",
       "1             0             0             0         0       1  \n",
       "2             0             1             0         0       0  \n",
       "3             0             0             0         0       0  \n",
       "4             0             0             0         0       0  \n",
       "5             0             0             0         0       1  \n",
       "6             0             0             0         0       0  \n",
       "7             0             0             0         0       0  \n",
       "8             0             0             0         0       0  \n",
       "9             0             0             0         0       0  \n",
       "\n",
       "[10 rows x 27 columns]"
      ]
     },
     "execution_count": 23,
     "metadata": {},
     "output_type": "execute_result"
    }
   ],
   "source": [
    "data.head(10)"
   ]
  },
  {
   "cell_type": "markdown",
   "metadata": {},
   "source": [
    "# Data Explore"
   ]
  },
  {
   "cell_type": "code",
   "execution_count": 24,
   "metadata": {},
   "outputs": [
    {
     "data": {
      "text/plain": [
       "Custid                   0\n",
       "Year_Birth               0\n",
       "Education                0\n",
       "Marital_Status           0\n",
       "Income                  20\n",
       "Kidhome                  0\n",
       "Teenhome                 0\n",
       "Dt_Customer              0\n",
       "Recency                  0\n",
       "MntMiniatures            0\n",
       "MntPainting_Material     0\n",
       "MntCard_Games            0\n",
       "MntMagazines             0\n",
       "MntScenario             49\n",
       "MntBrandA_Material      37\n",
       "NumDealsPurchases        0\n",
       "NumWebPurchases          0\n",
       "NumCatalogPurchases      0\n",
       "NumStorePurchases        0\n",
       "NumWebVisitsMonth        0\n",
       "AcceptedCmp2             0\n",
       "AcceptedCmp3             0\n",
       "AcceptedCmp4             0\n",
       "AcceptedCmp5             0\n",
       "AcceptedCmp1             0\n",
       "Complain                 0\n",
       "DepVar                   0\n",
       "dtype: int64"
      ]
     },
     "execution_count": 24,
     "metadata": {},
     "output_type": "execute_result"
    }
   ],
   "source": [
    "#NA's\n",
    "data.isna().sum()"
   ]
  },
  {
   "cell_type": "markdown",
   "metadata": {},
   "source": [
    "#### 3 variables with NA's"
   ]
  },
  {
   "cell_type": "markdown",
   "metadata": {},
   "source": [
    "##### Customers, which accepted previous campaigns are more prominent to accept the new one"
   ]
  },
  {
   "cell_type": "code",
   "execution_count": 25,
   "metadata": {},
   "outputs": [
    {
     "data": {
      "text/html": [
       "<div>\n",
       "<style scoped>\n",
       "    .dataframe tbody tr th:only-of-type {\n",
       "        vertical-align: middle;\n",
       "    }\n",
       "\n",
       "    .dataframe tbody tr th {\n",
       "        vertical-align: top;\n",
       "    }\n",
       "\n",
       "    .dataframe thead th {\n",
       "        text-align: right;\n",
       "    }\n",
       "</style>\n",
       "<table border=\"1\" class=\"dataframe\">\n",
       "  <thead>\n",
       "    <tr style=\"text-align: right;\">\n",
       "      <th></th>\n",
       "      <th>Income</th>\n",
       "      <th>Recency</th>\n",
       "    </tr>\n",
       "    <tr>\n",
       "      <th>DepVar</th>\n",
       "      <th></th>\n",
       "      <th></th>\n",
       "    </tr>\n",
       "  </thead>\n",
       "  <tbody>\n",
       "    <tr>\n",
       "      <th>0</th>\n",
       "      <td>61040.186185</td>\n",
       "      <td>52.848526</td>\n",
       "    </tr>\n",
       "    <tr>\n",
       "      <th>1</th>\n",
       "      <td>74076.153061</td>\n",
       "      <td>24.684746</td>\n",
       "    </tr>\n",
       "  </tbody>\n",
       "</table>\n",
       "</div>"
      ],
      "text/plain": [
       "              Income    Recency\n",
       "DepVar                         \n",
       "0       61040.186185  52.848526\n",
       "1       74076.153061  24.684746"
      ]
     },
     "execution_count": 25,
     "metadata": {},
     "output_type": "execute_result"
    }
   ],
   "source": [
    "data.pivot_table(index=['DepVar'], values=['Recency', 'Income'], aggfunc=np.mean)"
   ]
  },
  {
   "cell_type": "code",
   "execution_count": 26,
   "metadata": {},
   "outputs": [],
   "source": [
    "#Calculate total spendings\n",
    "data['Mnt_T'] = data['MntMiniatures'] + data['MntPainting_Material'] + data['MntCard_Games'] + data['MntMagazines'] + data['MntScenario'] + data['MntBrandA_Material']\n",
    "#Calculate frequency of purchase\n",
    "data['Freq'] = data['NumDealsPurchases'] + data['NumWebPurchases'] + data['NumCatalogPurchases'] + data['NumStorePurchases'] + data['NumWebVisitsMonth']"
   ]
  },
  {
   "cell_type": "markdown",
   "metadata": {},
   "source": [
    "##### As we can see, customers with higher frequency of purchase and higher monetary spending are more prominent to accept campaign"
   ]
  },
  {
   "cell_type": "code",
   "execution_count": 27,
   "metadata": {},
   "outputs": [
    {
     "data": {
      "text/html": [
       "<div>\n",
       "<style scoped>\n",
       "    .dataframe tbody tr th:only-of-type {\n",
       "        vertical-align: middle;\n",
       "    }\n",
       "\n",
       "    .dataframe tbody tr th {\n",
       "        vertical-align: top;\n",
       "    }\n",
       "\n",
       "    .dataframe thead th {\n",
       "        text-align: right;\n",
       "    }\n",
       "</style>\n",
       "<table border=\"1\" class=\"dataframe\">\n",
       "  <thead>\n",
       "    <tr style=\"text-align: right;\">\n",
       "      <th></th>\n",
       "      <th>Freq</th>\n",
       "      <th>Mnt_T</th>\n",
       "    </tr>\n",
       "    <tr>\n",
       "      <th>DepVar</th>\n",
       "      <th></th>\n",
       "      <th></th>\n",
       "    </tr>\n",
       "  </thead>\n",
       "  <tbody>\n",
       "    <tr>\n",
       "      <th>0</th>\n",
       "      <td>26.713832</td>\n",
       "      <td>680.957297</td>\n",
       "    </tr>\n",
       "    <tr>\n",
       "      <th>1</th>\n",
       "      <td>30.616949</td>\n",
       "      <td>1201.704225</td>\n",
       "    </tr>\n",
       "  </tbody>\n",
       "</table>\n",
       "</div>"
      ],
      "text/plain": [
       "             Freq        Mnt_T\n",
       "DepVar                        \n",
       "0       26.713832   680.957297\n",
       "1       30.616949  1201.704225"
      ]
     },
     "execution_count": 27,
     "metadata": {},
     "output_type": "execute_result"
    }
   ],
   "source": [
    "data.pivot_table(index=['DepVar'],values=['Mnt_T', 'Freq'],aggfunc=np.mean)"
   ]
  },
  {
   "cell_type": "markdown",
   "metadata": {},
   "source": [
    "##### No indication of any association between Education and acceptance of promo campaign at first look. However, let's create additional feature - High Degree, which indicates if customer is graduated, master or PhD"
   ]
  },
  {
   "cell_type": "code",
   "execution_count": 28,
   "metadata": {},
   "outputs": [
    {
     "data": {
      "text/html": [
       "<div>\n",
       "<style scoped>\n",
       "    .dataframe tbody tr th:only-of-type {\n",
       "        vertical-align: middle;\n",
       "    }\n",
       "\n",
       "    .dataframe tbody tr th {\n",
       "        vertical-align: top;\n",
       "    }\n",
       "\n",
       "    .dataframe thead th {\n",
       "        text-align: right;\n",
       "    }\n",
       "</style>\n",
       "<table border=\"1\" class=\"dataframe\">\n",
       "  <thead>\n",
       "    <tr style=\"text-align: right;\">\n",
       "      <th>DepVar</th>\n",
       "      <th>0</th>\n",
       "      <th>1</th>\n",
       "    </tr>\n",
       "    <tr>\n",
       "      <th>Education</th>\n",
       "      <th></th>\n",
       "      <th></th>\n",
       "    </tr>\n",
       "  </thead>\n",
       "  <tbody>\n",
       "    <tr>\n",
       "      <th>2n Cycle</th>\n",
       "      <td>372</td>\n",
       "      <td>52</td>\n",
       "    </tr>\n",
       "    <tr>\n",
       "      <th>Basic</th>\n",
       "      <td>266</td>\n",
       "      <td>28</td>\n",
       "    </tr>\n",
       "    <tr>\n",
       "      <th>Graduation</th>\n",
       "      <td>1079</td>\n",
       "      <td>153</td>\n",
       "    </tr>\n",
       "    <tr>\n",
       "      <th>Master</th>\n",
       "      <td>325</td>\n",
       "      <td>42</td>\n",
       "    </tr>\n",
       "    <tr>\n",
       "      <th>PhD</th>\n",
       "      <td>163</td>\n",
       "      <td>20</td>\n",
       "    </tr>\n",
       "  </tbody>\n",
       "</table>\n",
       "</div>"
      ],
      "text/plain": [
       "DepVar         0    1\n",
       "Education            \n",
       "2n Cycle     372   52\n",
       "Basic        266   28\n",
       "Graduation  1079  153\n",
       "Master       325   42\n",
       "PhD          163   20"
      ]
     },
     "execution_count": 28,
     "metadata": {},
     "output_type": "execute_result"
    }
   ],
   "source": [
    "pd.crosstab(index=data['Education'], columns=data['DepVar'])\n",
    "#No indication at first look"
   ]
  },
  {
   "cell_type": "markdown",
   "metadata": {},
   "source": [
    "##### By p-value we can't conclude about association between high degree and campaign acceptance"
   ]
  },
  {
   "cell_type": "code",
   "execution_count": 29,
   "metadata": {},
   "outputs": [
    {
     "data": {
      "text/plain": [
       "0.5627474933873269"
      ]
     },
     "execution_count": 29,
     "metadata": {},
     "output_type": "execute_result"
    }
   ],
   "source": [
    "data.loc[(data['Education'] == '2n Cycle') | (data['Education'] == 'Basic'), 'HighDegree'] = '0'\n",
    "data['HighDegree'].replace(np.NaN, '1', inplace = True)\n",
    "#Chi-Square test for independence\n",
    "scipy.stats.chi2_contingency(pd.crosstab(data.HighDegree, data.DepVar))[1]"
   ]
  },
  {
   "cell_type": "markdown",
   "metadata": {},
   "source": [
    "##### However, in the case of Marital Status we reject null hypothesis. Therefore, there could be assoication between Marital Status and campaign acceptance."
   ]
  },
  {
   "cell_type": "code",
   "execution_count": 30,
   "metadata": {},
   "outputs": [
    {
     "data": {
      "text/plain": [
       "0.00028588978795610537"
      ]
     },
     "execution_count": 30,
     "metadata": {},
     "output_type": "execute_result"
    }
   ],
   "source": [
    "scipy.stats.chi2_contingency(pd.crosstab(data.Marital_Status, data.DepVar))[1]\n",
    "# However, in the case of Marital Status we reject null hypothesis. Therefore, there could be assoication between Marital Status and campaign acceptance."
   ]
  },
  {
   "cell_type": "markdown",
   "metadata": {},
   "source": [
    "##### We can see that most of customers are graduated"
   ]
  },
  {
   "cell_type": "code",
   "execution_count": 31,
   "metadata": {},
   "outputs": [
    {
     "data": {
      "text/plain": [
       "<seaborn.axisgrid.FacetGrid at 0x28d8caab988>"
      ]
     },
     "execution_count": 31,
     "metadata": {},
     "output_type": "execute_result"
    },
    {
     "data": {
      "image/png": "[encoded data removed]",
      "text/plain": [
       "<Figure size 360x360 with 1 Axes>"
      ]
     },
     "metadata": {
      "needs_background": "light"
     },
     "output_type": "display_data"
    }
   ],
   "source": [
    "#Data Visulization\n",
    "sns.catplot(x=\"Education\", kind=\"count\", palette=\"ch:.25\", data=data)"
   ]
  },
  {
   "cell_type": "markdown",
   "metadata": {},
   "source": [
    "##### We can see that there is a lot of customer between 40 and 50 years of age."
   ]
  },
  {
   "cell_type": "code",
   "execution_count": 32,
   "metadata": {
    "scrolled": true
   },
   "outputs": [
    {
     "name": "stderr",
     "output_type": "stream",
     "text": [
      "C:\\Users\\I347687\\.conda\\envs\\myenv\\lib\\site-packages\\seaborn\\distributions.py:2557: FutureWarning: `distplot` is a deprecated function and will be removed in a future version. Please adapt your code to use either `displot` (a figure-level function with similar flexibility) or `histplot` (an axes-level function for histograms).\n",
      "  warnings.warn(msg, FutureWarning)\n"
     ]
    },
    {
     "data": {
      "text/plain": [
       "<AxesSubplot:xlabel='Age'>"
      ]
     },
     "execution_count": 32,
     "metadata": {},
     "output_type": "execute_result"
    },
    {
     "data": {
      "image/png": "[encoded data removed]",
      "text/plain": [
       "<Figure size 432x288 with 1 Axes>"
      ]
     },
     "metadata": {
      "needs_background": "light"
     },
     "output_type": "display_data"
    }
   ],
   "source": [
    "#Calculate the age of customers\n",
    "data['Age'] = datetime.today().year - data['Year_Birth'].astype('int')\n",
    "sns.distplot(data['Age'], kde=False, bins=15)"
   ]
  },
  {
   "cell_type": "markdown",
   "metadata": {},
   "source": [
    "##### It looks like all the customer have beeing buying from company for 5,6 and 7 years."
   ]
  },
  {
   "cell_type": "code",
   "execution_count": 33,
   "metadata": {},
   "outputs": [
    {
     "data": {
      "text/plain": [
       "<AxesSubplot:xlabel='Age_since_customer'>"
      ]
     },
     "execution_count": 33,
     "metadata": {},
     "output_type": "execute_result"
    },
    {
     "data": {
      "image/png": "[encoded data removed]",
      "text/plain": [
       "<Figure size 432x288 with 1 Axes>"
      ]
     },
     "metadata": {
      "needs_background": "light"
     },
     "output_type": "display_data"
    }
   ],
   "source": [
    "#Calculate the age since last first purchase\n",
    "data['Age_since_customer'] = datetime.today().year - data['Dt_Customer'].dt.year\n",
    "sns.distplot(data['Age_since_customer'], kde=False, bins=15)"
   ]
  },
  {
   "cell_type": "markdown",
   "metadata": {},
   "source": [
    "# Outlier detection"
   ]
  },
  {
   "cell_type": "markdown",
   "metadata": {},
   "source": [
    "##### We can see that there is no outliers or strange values in categorical columns"
   ]
  },
  {
   "cell_type": "code",
   "execution_count": 34,
   "metadata": {},
   "outputs": [
    {
     "name": "stdout",
     "output_type": "stream",
     "text": [
      "['PhD' '2n Cycle' 'Graduation' 'Master' 'Basic']\n",
      "['1958' '1971' '1969' '1952' '1974' '1975' '1986' '1953' '1983' '1978'\n",
      " '1976' '1945' '1967' '1970' '1956' '1985' '1972' '1966' '1962' '1988'\n",
      " '1965' '1979' '1980' '1961' '1955' '1981' '1982' '1990' '1977' '1957'\n",
      " '1943' '1968' '1954' '1991' '1984' '1963' '1973' '1959' '1947' '1950'\n",
      " '1989' '1993' '1944' '1960' '1992' '1964' '1946' '1997' '1949' '1994'\n",
      " '1951' '1948' '1987' '1995' '1996' '1999' '1998' '1942']\n",
      "['Divorced' 'Together' 'Married' 'Single' 'Widow']\n",
      "['0' '1']\n",
      "['0' '1']\n",
      "['0' '1']\n",
      "['0' '1']\n",
      "['0' '1']\n",
      "['0' '1']\n"
     ]
    }
   ],
   "source": [
    "#List outliers for categorical data\n",
    "cat_col = ['Education', 'Year_Birth', 'Marital_Status', 'AcceptedCmp1', 'AcceptedCmp2', 'AcceptedCmp3', 'AcceptedCmp4', 'AcceptedCmp5', 'Complain']\n",
    "for col in cat_col:\n",
    "    print(data[col].unique())"
   ]
  },
  {
   "cell_type": "markdown",
   "metadata": {},
   "source": [
    "#### Let's explore outliers for numerical data. In order to do that we will use box plot to identify suspicious columns and scatterplot to investigate further. We will do this in two-step approah: 1) Identify strange observations based on IQR approach and 2) Look into strange variables through the scatterplots"
   ]
  },
  {
   "cell_type": "code",
   "execution_count": 35,
   "metadata": {},
   "outputs": [],
   "source": [
    "#Remove columns, which are not interesting for numerical analysis\n",
    "num_col = [item for item in data.columns.tolist() if item not in cat_col]\n",
    "num_to_remove = ['Custid', 'Year_Birth', 'Dt_Customer', 'Z_CostContact', 'Z_Revenue', 'HighDegree', 'DepVar']\n",
    "num_col = [item for item in num_col if item not in num_to_remove]"
   ]
  },
  {
   "cell_type": "code",
   "execution_count": 36,
   "metadata": {},
   "outputs": [],
   "source": [
    "#Create boxplot for all columns:\n",
    "# for column in num_col:\n",
    "#     plt.figure()\n",
    "#     data.boxplot([column])"
   ]
  },
  {
   "cell_type": "markdown",
   "metadata": {},
   "source": [
    "##### As we can see in the example below, Income has strange observations (atypically high) according to IQR approach."
   ]
  },
  {
   "cell_type": "code",
   "execution_count": 37,
   "metadata": {},
   "outputs": [
    {
     "data": {
      "text/plain": [
       "<AxesSubplot:>"
      ]
     },
     "execution_count": 37,
     "metadata": {},
     "output_type": "execute_result"
    },
    {
     "data": {
      "image/png": "[encoded data removed]",
      "text/plain": [
       "<Figure size 432x288 with 1 Axes>"
      ]
     },
     "metadata": {
      "needs_background": "light"
     },
     "output_type": "display_data"
    }
   ],
   "source": [
    "data.boxplot(['Income'])"
   ]
  },
  {
   "cell_type": "code",
   "execution_count": 38,
   "metadata": {},
   "outputs": [],
   "source": [
    "#This function will return columns, based on IQR approach\n",
    "def detect_outliers(numerical_data):\n",
    "    Q1 = numerical_data.quantile(0.25)\n",
    "    Q3 = numerical_data.quantile(0.75)\n",
    "    IQR = Q3-Q1\n",
    "    outliers = ((numerical_data < (Q1 - 1.5 * IQR)) | (numerical_data > (Q3 + 1.5 * IQR)))\n",
    "    outlier_columns = outliers[outliers==True].count(axis=0)\n",
    "    outlier_columns = outlier_columns[outlier_columns>0].index.tolist()\n",
    "    print(outliers[outliers==True].count(axis=0))\n",
    "    return outlier_columns"
   ]
  },
  {
   "cell_type": "code",
   "execution_count": 39,
   "metadata": {
    "scrolled": true
   },
   "outputs": [
    {
     "name": "stdout",
     "output_type": "stream",
     "text": [
      "Income                   23\n",
      "Kidhome                   0\n",
      "Teenhome                  0\n",
      "Recency                   0\n",
      "MntMiniatures            46\n",
      "MntPainting_Material    240\n",
      "MntCard_Games           227\n",
      "MntMagazines            262\n",
      "MntScenario             270\n",
      "MntBrandA_Material      193\n",
      "NumDealsPurchases       137\n",
      "NumWebPurchases           0\n",
      "NumCatalogPurchases      65\n",
      "NumStorePurchases         0\n",
      "NumWebVisitsMonth        25\n",
      "Mnt_T                     3\n",
      "Freq                     10\n",
      "Age                       0\n",
      "Age_since_customer        0\n",
      "dtype: int64\n"
     ]
    }
   ],
   "source": [
    "var = detect_outliers(data[num_col])"
   ]
  },
  {
   "cell_type": "markdown",
   "metadata": {},
   "source": [
    "##### As we can see, there are 11 suspicious columns, which need to be invsetigated further"
   ]
  },
  {
   "cell_type": "code",
   "execution_count": 40,
   "metadata": {},
   "outputs": [],
   "source": [
    "#Lets drop NA's for now\n",
    "df = data[var]\n",
    "df = df.dropna()"
   ]
  },
  {
   "cell_type": "code",
   "execution_count": 41,
   "metadata": {},
   "outputs": [],
   "source": [
    "# Create pairplot for all features\n",
    "# plt.figure(figsize=(30,30))\n",
    "# sns.pairplot(df)"
   ]
  },
  {
   "cell_type": "markdown",
   "metadata": {},
   "source": [
    "#### We can see that features with outliers are: Income, where values are higher than 175000"
   ]
  },
  {
   "cell_type": "code",
   "execution_count": 42,
   "metadata": {},
   "outputs": [
    {
     "data": {
      "text/plain": [
       "Text(0, 0.5, 'MntMiniatures')"
      ]
     },
     "execution_count": 42,
     "metadata": {},
     "output_type": "execute_result"
    },
    {
     "data": {
      "image/png": "[encoded data removed]",
      "text/plain": [
       "<Figure size 432x288 with 1 Axes>"
      ]
     },
     "metadata": {
      "needs_background": "light"
     },
     "output_type": "display_data"
    }
   ],
   "source": [
    "#Example\n",
    "df = data[data['Income']>175000]\n",
    "plt.scatter(data['Income'], data['MntMiniatures'], alpha=0.5)\n",
    "plt.scatter(df['Income'], df['MntMiniatures'], color=\"red\")\n",
    "plt.xlabel(\"Income\")\n",
    "plt.ylabel(\"MntMiniatures\")"
   ]
  },
  {
   "cell_type": "markdown",
   "metadata": {},
   "source": [
    "##### We do the same for other features"
   ]
  },
  {
   "cell_type": "code",
   "execution_count": 43,
   "metadata": {},
   "outputs": [],
   "source": [
    "#Now, we are going to filter our outliers\n",
    "data_filtered = data[data['Income']<175000]"
   ]
  },
  {
   "cell_type": "code",
   "execution_count": 44,
   "metadata": {},
   "outputs": [
    {
     "data": {
      "text/plain": [
       "<matplotlib.collections.PathCollection at 0x28d9009fa88>"
      ]
     },
     "execution_count": 44,
     "metadata": {},
     "output_type": "execute_result"
    },
    {
     "data": {
      "image/png": "[encoded data removed]",
      "text/plain": [
       "<Figure size 432x288 with 1 Axes>"
      ]
     },
     "metadata": {
      "needs_background": "light"
     },
     "output_type": "display_data"
    }
   ],
   "source": [
    "##MntCard_Games\n",
    "plt.scatter(data_filtered['Income'], data_filtered['MntCard_Games'], alpha=0.5)"
   ]
  },
  {
   "cell_type": "code",
   "execution_count": 45,
   "metadata": {},
   "outputs": [],
   "source": [
    "#Filter\n",
    "data_filtered = data_filtered[data_filtered['MntCard_Games']<2000]\n",
    "data_filtered = data_filtered[data_filtered['NumCatalogPurchases']<20]\n",
    "data_filtered = data_filtered[data_filtered['NumWebVisitsMonth']<17.5]"
   ]
  },
  {
   "cell_type": "code",
   "execution_count": 46,
   "metadata": {},
   "outputs": [
    {
     "name": "stdout",
     "output_type": "stream",
     "text": [
      "We removed 82 outliers, which is 3.28 % of our original data set\n"
     ]
    }
   ],
   "source": [
    "print(\"We removed \" + str(len(data) - len(data_filtered)) + \" outliers,\" + \" which is \" + str(round(100 - (len(data_filtered)/len(data))*100,2)) + \" % of our original data set\")"
   ]
  },
  {
   "cell_type": "markdown",
   "metadata": {},
   "source": [
    "# Data set enrichment (add more features)"
   ]
  },
  {
   "cell_type": "markdown",
   "metadata": {},
   "source": [
    "#### Before we enrich our data set, let's impute missing values. We are using imputation in order to 1) Not to lose relevant observations and 2) Not to change original data distribution. Therefore, I used median imputation for interval data and mode imputation for categorical data."
   ]
  },
  {
   "cell_type": "code",
   "execution_count": 47,
   "metadata": {},
   "outputs": [
    {
     "name": "stdout",
     "output_type": "stream",
     "text": [
      "165 observations were imputed.\n"
     ]
    }
   ],
   "source": [
    "#Build function to impute NA's\n",
    "def imputer(data):\n",
    "    NA_sum = data.isna().sum().sum()\n",
    "    for col in data:\n",
    "        if data[col].dtypes == 'object':\n",
    "            data[col] = data[col].fillna(data[col].mode())\n",
    "        elif data[col].dtypes == 'float64' or data[col].dtypes == 'int64':\n",
    "            data[col] = data[col].fillna(data[col].median())\n",
    "    print(str(NA_sum)  + ' observations were imputed.')\n",
    "    return data\n",
    "\n",
    "filtered_imputed_data = imputer(data_filtered)"
   ]
  },
  {
   "cell_type": "markdown",
   "metadata": {},
   "source": [
    "##### Lets create new variables to enrcih data set"
   ]
  },
  {
   "cell_type": "code",
   "execution_count": 48,
   "metadata": {},
   "outputs": [],
   "source": [
    "#Ratio between customer's spendings and income\n",
    "filtered_imputed_data['R_Mnt_T_Income'] = filtered_imputed_data['Mnt_T']/filtered_imputed_data['Income']\n",
    "\n",
    "# Total physical purchases\n",
    "filtered_imputed_data['Physical_Purchases'] = filtered_imputed_data['NumCatalogPurchases'] + filtered_imputed_data['NumStorePurchases']\n",
    "\n",
    "#Ratio of purhases with discount\n",
    "filtered_imputed_data['R_Discount'] = filtered_imputed_data['NumDealsPurchases']/filtered_imputed_data['Freq']\n",
    "\n",
    "#Average of spending per purchase\n",
    "filtered_imputed_data['R_Mnt_Freq'] = filtered_imputed_data['Mnt_T']/filtered_imputed_data['Freq']\n",
    "\n",
    "#% of online purchases or Net Worth\n",
    "filtered_imputed_data['Net_Worth'] = filtered_imputed_data['NumWebPurchases']/filtered_imputed_data['Freq']\n",
    "\n",
    "#% of physical purchases or Physical worth\n",
    "filtered_imputed_data['Physical_Worth'] = filtered_imputed_data['Physical_Purchases']/filtered_imputed_data['Freq']\n",
    "\n",
    "#% of physical purchases or Physical worth\n",
    "filtered_imputed_data['Physical_Worth'] = filtered_imputed_data['Physical_Purchases']/filtered_imputed_data['Freq']\n",
    "\n",
    "#% Average campaign acceptance\n",
    "filtered_imputed_data['Avg_Cmp_Accept'] = (filtered_imputed_data['AcceptedCmp1'].astype(int) + filtered_imputed_data['AcceptedCmp2'].astype(int) + filtered_imputed_data['AcceptedCmp3'].astype(int) + filtered_imputed_data['AcceptedCmp4'].astype(int) + filtered_imputed_data['AcceptedCmp5'].astype(int))/5\n",
    "\n",
    "#If customer accepted at least one campaign\n",
    "filtered_imputed_data.loc[(filtered_imputed_data['AcceptedCmp1'] == '1') | (filtered_imputed_data['AcceptedCmp2'] == '1') | (filtered_imputed_data['AcceptedCmp3'] == '1') | (filtered_imputed_data['AcceptedCmp4'] == '1') | (filtered_imputed_data['AcceptedCmp5'] == '1'), 'If_Accep'] = '1'\n",
    "filtered_imputed_data['If_Accep'].replace(np.NaN, '0', inplace = True)\n",
    "\n",
    "#If customer is single\n",
    "filtered_imputed_data.loc[(filtered_imputed_data['Marital_Status'] == 'Divorced') | (filtered_imputed_data['Marital_Status'] == 'Single') | (filtered_imputed_data['Marital_Status'] == 'Widow'), 'Alone'] = '1'\n",
    "filtered_imputed_data['Alone'].replace(np.NaN, '0', inplace = True)\n",
    "\n",
    "#Affinity variables or % of total spending per each type of product:\n",
    "filtered_imputed_data['Aff_Miniat'] = (filtered_imputed_data['MntMiniatures']/filtered_imputed_data['Mnt_T'])*100\n",
    "filtered_imputed_data['Aff_Paint_Material'] = (filtered_imputed_data['MntPainting_Material']/filtered_imputed_data['Mnt_T'])*100\n",
    "filtered_imputed_data['Aff_Mnt_Card_Games'] = (filtered_imputed_data['MntCard_Games']/filtered_imputed_data['Mnt_T'])*100\n",
    "filtered_imputed_data['Aff_Mnt_Magazines'] = (filtered_imputed_data['MntMagazines']/filtered_imputed_data['Mnt_T'])*100\n",
    "filtered_imputed_data['Aff_Mnt_Scenario'] = (filtered_imputed_data['MntScenario']/filtered_imputed_data['Mnt_T'])*100\n",
    "filtered_imputed_data['Aff_MntBrand_A_Material'] = (filtered_imputed_data['MntBrandA_Material']/filtered_imputed_data['Mnt_T'])*100"
   ]
  },
  {
   "cell_type": "markdown",
   "metadata": {},
   "source": [
    "# Feature Selection"
   ]
  },
  {
   "cell_type": "markdown",
   "metadata": {},
   "source": [
    "#### Now we are going to detect correlated features in order to obtain a simpler model (with less variable as possible but still highly accurate).To do that we are going to build function that creates 1) Correlation matrix for numerical features and 2) Table with chi-square test results for categorical features. After that, we are going to perform feature selection in two-steps: 1) Discover variable worth and 2) Remove correlated features, which doesnt have high worth when predicting our target variable"
   ]
  },
  {
   "cell_type": "code",
   "execution_count": 49,
   "metadata": {},
   "outputs": [],
   "source": [
    "train_data = filtered_imputed_data.copy()\n",
    "del train_data['Custid']\n",
    "del train_data['DepVar']"
   ]
  },
  {
   "cell_type": "markdown",
   "metadata": {},
   "source": [
    "##### In our function, we outputing: 1) df, which is correlation matrix or upper part of it, 2) list of features that are highly correlated, 3)contigency table with chi-square results"
   ]
  },
  {
   "cell_type": "code",
   "execution_count": 50,
   "metadata": {},
   "outputs": [],
   "source": [
    "#Build function that creates spearman correlation matrix for numerical features and chi square for categorical features\n",
    "\n",
    "def detect_correlation(data, num_corr_value, cat_matrix_type):\n",
    "    #Create correlation matrix and list of features to drop:\n",
    "        cor_matrix = data.corr(method = cat_matrix_type).abs()\n",
    "        upper_tri = cor_matrix.where(np.triu(np.ones(cor_matrix.shape),k=1).astype(np.bool))\n",
    "        to_drop = [column for column in upper_tri.columns if any(upper_tri[column] > num_corr_value)]\n",
    "        \n",
    "    #Chi-square test for independence:\n",
    "        contigency_interim = []\n",
    "        \n",
    "        categorical_features = list(data.select_dtypes(exclude=[\"number\"]).columns)\n",
    "\n",
    "        for col1 in data[categorical_features]:\n",
    "            for col2 in data[categorical_features]:\n",
    "                contigency = pd.crosstab(data[col1], data[col2])\n",
    "                c, p, dof, expected = chi2_contingency(contigency)\n",
    "                contigency_interim.append([col1, col2, c, p])\n",
    "                \n",
    "        contigency_interim = pd.DataFrame(contigency_interim, columns=['col1', 'col2', 'chi2', 'p-value'])\n",
    "        contigency_interim.loc[(contigency_interim['p-value'] > 0.05), 'Result'] = 'No indication of depencency'\n",
    "        contigency_interim['Result'].replace(np.NaN, 'Dependent', inplace = True)\n",
    "        \n",
    "        d = contigency_interim[['col1', 'col2']]\n",
    "        d = pd.DataFrame(np.sort(d.values, axis=1), columns=d.columns).drop_duplicates()\n",
    "        contigency_final = pd.merge(contigency_interim, d, how='inner', on=['col1', 'col2'])\n",
    "        contigency_final = contigency_final[contigency_final['col1'] != contigency_final['col2']]\n",
    "        \n",
    "        return cor_matrix, to_drop, contigency_final"
   ]
  },
  {
   "cell_type": "code",
   "execution_count": 51,
   "metadata": {},
   "outputs": [],
   "source": [
    "correlation_results = detect_correlation(train_data, 0.80, 'spearman')"
   ]
  },
  {
   "cell_type": "code",
   "execution_count": 52,
   "metadata": {},
   "outputs": [
    {
     "data": {
      "text/plain": [
       "['MntMiniatures',\n",
       " 'MntCard_Games',\n",
       " 'NumCatalogPurchases',\n",
       " 'Mnt_T',\n",
       " 'Freq',\n",
       " 'R_Mnt_T_Income',\n",
       " 'Physical_Purchases',\n",
       " 'R_Discount',\n",
       " 'R_Mnt_Freq',\n",
       " 'Physical_Worth']"
      ]
     },
     "execution_count": 52,
     "metadata": {},
     "output_type": "execute_result"
    }
   ],
   "source": [
    "#Example: list of highly correlated features\n",
    "correlation_results[1]"
   ]
  },
  {
   "cell_type": "code",
   "execution_count": 53,
   "metadata": {},
   "outputs": [
    {
     "data": {
      "text/plain": [
       "<AxesSubplot:>"
      ]
     },
     "execution_count": 53,
     "metadata": {},
     "output_type": "execute_result"
    },
    {
     "data": {
      "image/png": "[encoded data removed]",
      "text/plain": [
       "<Figure size 1440x1440 with 2 Axes>"
      ]
     },
     "metadata": {
      "needs_background": "light"
     },
     "output_type": "display_data"
    }
   ],
   "source": [
    "#Visualization of our correlation matrix:\n",
    "fig, ax = plt.subplots(figsize=(20,20))\n",
    "matrix = np.triu(train_data.corr(method='spearman').abs())\n",
    "sns.heatmap(train_data.corr(method='spearman').abs(), annot=True, mask=matrix,ax=ax)"
   ]
  },
  {
   "cell_type": "markdown",
   "metadata": {},
   "source": [
    "##### Since we are going to use Extensive Tree algorithm for feature selection, we need to perfrom encoding of categorical data"
   ]
  },
  {
   "cell_type": "code",
   "execution_count": 54,
   "metadata": {},
   "outputs": [
    {
     "data": {
      "text/html": [
       "<div>\n",
       "<style scoped>\n",
       "    .dataframe tbody tr th:only-of-type {\n",
       "        vertical-align: middle;\n",
       "    }\n",
       "\n",
       "    .dataframe tbody tr th {\n",
       "        vertical-align: top;\n",
       "    }\n",
       "\n",
       "    .dataframe thead th {\n",
       "        text-align: right;\n",
       "    }\n",
       "</style>\n",
       "<table border=\"1\" class=\"dataframe\">\n",
       "  <thead>\n",
       "    <tr style=\"text-align: right;\">\n",
       "      <th></th>\n",
       "      <th>Year_Birth</th>\n",
       "      <th>Education</th>\n",
       "      <th>Marital_Status</th>\n",
       "      <th>Income</th>\n",
       "      <th>Kidhome</th>\n",
       "      <th>Teenhome</th>\n",
       "      <th>Dt_Customer</th>\n",
       "      <th>Recency</th>\n",
       "      <th>MntMiniatures</th>\n",
       "      <th>MntPainting_Material</th>\n",
       "      <th>...</th>\n",
       "      <th>Physical_Worth</th>\n",
       "      <th>Avg_Cmp_Accept</th>\n",
       "      <th>If_Accep</th>\n",
       "      <th>Alone</th>\n",
       "      <th>Aff_Miniat</th>\n",
       "      <th>Aff_Paint_Material</th>\n",
       "      <th>Aff_Mnt_Card_Games</th>\n",
       "      <th>Aff_Mnt_Magazines</th>\n",
       "      <th>Aff_Mnt_Scenario</th>\n",
       "      <th>Aff_MntBrand_A_Material</th>\n",
       "    </tr>\n",
       "  </thead>\n",
       "  <tbody>\n",
       "    <tr>\n",
       "      <th>0</th>\n",
       "      <td>16</td>\n",
       "      <td>4</td>\n",
       "      <td>0</td>\n",
       "      <td>101721.0</td>\n",
       "      <td>0</td>\n",
       "      <td>0</td>\n",
       "      <td>603</td>\n",
       "      <td>6</td>\n",
       "      <td>845</td>\n",
       "      <td>23</td>\n",
       "      <td>...</td>\n",
       "      <td>0.590909</td>\n",
       "      <td>0.0</td>\n",
       "      <td>0</td>\n",
       "      <td>1</td>\n",
       "      <td>44.520548</td>\n",
       "      <td>1.211802</td>\n",
       "      <td>46.153846</td>\n",
       "      <td>2.897787</td>\n",
       "      <td>3.161222</td>\n",
       "      <td>2.054795</td>\n",
       "    </tr>\n",
       "    <tr>\n",
       "      <th>1</th>\n",
       "      <td>29</td>\n",
       "      <td>4</td>\n",
       "      <td>3</td>\n",
       "      <td>20148.0</td>\n",
       "      <td>1</td>\n",
       "      <td>1</td>\n",
       "      <td>445</td>\n",
       "      <td>65</td>\n",
       "      <td>26</td>\n",
       "      <td>2</td>\n",
       "      <td>...</td>\n",
       "      <td>0.250000</td>\n",
       "      <td>0.2</td>\n",
       "      <td>1</td>\n",
       "      <td>0</td>\n",
       "      <td>29.213483</td>\n",
       "      <td>2.247191</td>\n",
       "      <td>43.820225</td>\n",
       "      <td>1.123596</td>\n",
       "      <td>0.000000</td>\n",
       "      <td>23.595506</td>\n",
       "    </tr>\n",
       "    <tr>\n",
       "      <th>2</th>\n",
       "      <td>27</td>\n",
       "      <td>0</td>\n",
       "      <td>1</td>\n",
       "      <td>86028.0</td>\n",
       "      <td>0</td>\n",
       "      <td>0</td>\n",
       "      <td>571</td>\n",
       "      <td>54</td>\n",
       "      <td>379</td>\n",
       "      <td>63</td>\n",
       "      <td>...</td>\n",
       "      <td>0.531250</td>\n",
       "      <td>0.4</td>\n",
       "      <td>1</td>\n",
       "      <td>0</td>\n",
       "      <td>22.817580</td>\n",
       "      <td>3.792896</td>\n",
       "      <td>49.488260</td>\n",
       "      <td>1.565322</td>\n",
       "      <td>18.543046</td>\n",
       "      <td>3.792896</td>\n",
       "    </tr>\n",
       "    <tr>\n",
       "      <th>4</th>\n",
       "      <td>32</td>\n",
       "      <td>4</td>\n",
       "      <td>3</td>\n",
       "      <td>45261.0</td>\n",
       "      <td>1</td>\n",
       "      <td>0</td>\n",
       "      <td>114</td>\n",
       "      <td>31</td>\n",
       "      <td>9</td>\n",
       "      <td>0</td>\n",
       "      <td>...</td>\n",
       "      <td>0.250000</td>\n",
       "      <td>0.0</td>\n",
       "      <td>0</td>\n",
       "      <td>0</td>\n",
       "      <td>30.000000</td>\n",
       "      <td>0.000000</td>\n",
       "      <td>30.000000</td>\n",
       "      <td>10.000000</td>\n",
       "      <td>6.666667</td>\n",
       "      <td>23.333333</td>\n",
       "    </tr>\n",
       "    <tr>\n",
       "      <th>5</th>\n",
       "      <td>33</td>\n",
       "      <td>0</td>\n",
       "      <td>2</td>\n",
       "      <td>101489.0</td>\n",
       "      <td>0</td>\n",
       "      <td>0</td>\n",
       "      <td>302</td>\n",
       "      <td>72</td>\n",
       "      <td>387</td>\n",
       "      <td>30</td>\n",
       "      <td>...</td>\n",
       "      <td>0.568182</td>\n",
       "      <td>0.0</td>\n",
       "      <td>0</td>\n",
       "      <td>1</td>\n",
       "      <td>21.124454</td>\n",
       "      <td>1.637555</td>\n",
       "      <td>58.406114</td>\n",
       "      <td>1.419214</td>\n",
       "      <td>5.840611</td>\n",
       "      <td>11.572052</td>\n",
       "    </tr>\n",
       "  </tbody>\n",
       "</table>\n",
       "<p>5 rows × 46 columns</p>\n",
       "</div>"
      ],
      "text/plain": [
       "   Year_Birth  Education  Marital_Status    Income  Kidhome  Teenhome  \\\n",
       "0          16          4               0  101721.0        0         0   \n",
       "1          29          4               3   20148.0        1         1   \n",
       "2          27          0               1   86028.0        0         0   \n",
       "4          32          4               3   45261.0        1         0   \n",
       "5          33          0               2  101489.0        0         0   \n",
       "\n",
       "   Dt_Customer  Recency  MntMiniatures  MntPainting_Material  ...  \\\n",
       "0          603        6            845                    23  ...   \n",
       "1          445       65             26                     2  ...   \n",
       "2          571       54            379                    63  ...   \n",
       "4          114       31              9                     0  ...   \n",
       "5          302       72            387                    30  ...   \n",
       "\n",
       "   Physical_Worth  Avg_Cmp_Accept  If_Accep  Alone  Aff_Miniat  \\\n",
       "0        0.590909             0.0         0      1   44.520548   \n",
       "1        0.250000             0.2         1      0   29.213483   \n",
       "2        0.531250             0.4         1      0   22.817580   \n",
       "4        0.250000             0.0         0      0   30.000000   \n",
       "5        0.568182             0.0         0      1   21.124454   \n",
       "\n",
       "   Aff_Paint_Material  Aff_Mnt_Card_Games  Aff_Mnt_Magazines  \\\n",
       "0            1.211802           46.153846           2.897787   \n",
       "1            2.247191           43.820225           1.123596   \n",
       "2            3.792896           49.488260           1.565322   \n",
       "4            0.000000           30.000000          10.000000   \n",
       "5            1.637555           58.406114           1.419214   \n",
       "\n",
       "   Aff_Mnt_Scenario  Aff_MntBrand_A_Material  \n",
       "0          3.161222                 2.054795  \n",
       "1          0.000000                23.595506  \n",
       "2         18.543046                 3.792896  \n",
       "4          6.666667                23.333333  \n",
       "5          5.840611                11.572052  \n",
       "\n",
       "[5 rows x 46 columns]"
      ]
     },
     "execution_count": 54,
     "metadata": {},
     "output_type": "execute_result"
    }
   ],
   "source": [
    "#Prepare data for feature selection algorithm:\n",
    "train_data_fs = filtered_imputed_data.copy()\n",
    "del train_data_fs['Custid']\n",
    "\n",
    "categorical_features = list(train_data_fs.select_dtypes(exclude=[\"number\"]).columns)\n",
    "le = LabelEncoder()\n",
    "for i in range(len(categorical_features)):\n",
    "    new = le.fit_transform(train_data_fs[categorical_features[i]])\n",
    "    train_data_fs[categorical_features[i]] = new\n",
    "train_data_fs.head()"
   ]
  },
  {
   "cell_type": "code",
   "execution_count": 55,
   "metadata": {},
   "outputs": [],
   "source": [
    "#Splitting the data into independent and dependent variables\n",
    "\n",
    "#Move target column to the end of our data set\n",
    "first_column = train_data_fs.pop('DepVar')\n",
    "train_data_fs.insert(43, 'DepVar', first_column)\n",
    "\n",
    "X = train_data_fs.iloc[:,0:43].values\n",
    "y = train_data_fs.iloc[:,43].values\n",
    "X_train, X_test, y_train, y_test = train_test_split(X, y, test_size = 0.25, random_state = 21)"
   ]
  },
  {
   "cell_type": "code",
   "execution_count": 56,
   "metadata": {},
   "outputs": [],
   "source": [
    "#Calculate feature importance with Extra Trees\n",
    "num_iter = 5\n",
    "et_importance = pd.DataFrame(columns = ['Feature', 'Importance_rf', 'Iteration_n'])\n",
    "importance = []\n",
    "\n",
    "for i in range(num_iter):\n",
    "\n",
    "    et = ExtraTreesClassifier(n_estimators=100, max_features='auto', max_depth=1000, random_state=0)\n",
    "    et.fit(X_train, y_train)\n",
    "    importance = pd.DataFrame(list(zip(train_data_fs.columns[0:X_train.shape[1]], et.feature_importances_)))\n",
    "    importance.rename(columns = {importance.columns[0] : 'Feature', importance.columns[1] : 'Importance_et'}, inplace = True)\n",
    "    importance['Iteration_n'] = i\n",
    "    et_importance = et_importance.append(importance)\n",
    "\n",
    "et_importance_agg = et_importance.groupby(['Feature'], as_index = False).mean()\n",
    "et_importance_agg.sort_values('Importance_et', inplace=True, ascending=False)"
   ]
  },
  {
   "cell_type": "markdown",
   "metadata": {},
   "source": [
    "##### As we can see here are top15 of the most important features to predict target "
   ]
  },
  {
   "cell_type": "code",
   "execution_count": 57,
   "metadata": {},
   "outputs": [
    {
     "data": {
      "text/html": [
       "<div>\n",
       "<style scoped>\n",
       "    .dataframe tbody tr th:only-of-type {\n",
       "        vertical-align: middle;\n",
       "    }\n",
       "\n",
       "    .dataframe tbody tr th {\n",
       "        vertical-align: top;\n",
       "    }\n",
       "\n",
       "    .dataframe thead th {\n",
       "        text-align: right;\n",
       "    }\n",
       "</style>\n",
       "<table border=\"1\" class=\"dataframe\">\n",
       "  <thead>\n",
       "    <tr style=\"text-align: right;\">\n",
       "      <th></th>\n",
       "      <th>Feature</th>\n",
       "      <th>Importance_et</th>\n",
       "    </tr>\n",
       "  </thead>\n",
       "  <tbody>\n",
       "    <tr>\n",
       "      <th>40</th>\n",
       "      <td>Recency</td>\n",
       "      <td>0.108394</td>\n",
       "    </tr>\n",
       "    <tr>\n",
       "      <th>12</th>\n",
       "      <td>Avg_Cmp_Accept</td>\n",
       "      <td>0.040152</td>\n",
       "    </tr>\n",
       "    <tr>\n",
       "      <th>18</th>\n",
       "      <td>If_Accep</td>\n",
       "      <td>0.038371</td>\n",
       "    </tr>\n",
       "    <tr>\n",
       "      <th>6</th>\n",
       "      <td>Aff_Mnt_Card_Games</td>\n",
       "      <td>0.037701</td>\n",
       "    </tr>\n",
       "    <tr>\n",
       "      <th>30</th>\n",
       "      <td>NumCatalogPurchases</td>\n",
       "      <td>0.036575</td>\n",
       "    </tr>\n",
       "    <tr>\n",
       "      <th>23</th>\n",
       "      <td>MntCard_Games</td>\n",
       "      <td>0.035445</td>\n",
       "    </tr>\n",
       "    <tr>\n",
       "      <th>37</th>\n",
       "      <td>R_Discount</td>\n",
       "      <td>0.029052</td>\n",
       "    </tr>\n",
       "    <tr>\n",
       "      <th>4</th>\n",
       "      <td>AcceptedCmp5</td>\n",
       "      <td>0.028310</td>\n",
       "    </tr>\n",
       "    <tr>\n",
       "      <th>31</th>\n",
       "      <td>NumDealsPurchases</td>\n",
       "      <td>0.028186</td>\n",
       "    </tr>\n",
       "    <tr>\n",
       "      <th>11</th>\n",
       "      <td>Alone</td>\n",
       "      <td>0.025457</td>\n",
       "    </tr>\n",
       "    <tr>\n",
       "      <th>34</th>\n",
       "      <td>NumWebVisitsMonth</td>\n",
       "      <td>0.024309</td>\n",
       "    </tr>\n",
       "    <tr>\n",
       "      <th>1</th>\n",
       "      <td>AcceptedCmp2</td>\n",
       "      <td>0.024205</td>\n",
       "    </tr>\n",
       "    <tr>\n",
       "      <th>19</th>\n",
       "      <td>Income</td>\n",
       "      <td>0.023977</td>\n",
       "    </tr>\n",
       "    <tr>\n",
       "      <th>29</th>\n",
       "      <td>Net_Worth</td>\n",
       "      <td>0.023224</td>\n",
       "    </tr>\n",
       "    <tr>\n",
       "      <th>32</th>\n",
       "      <td>NumStorePurchases</td>\n",
       "      <td>0.022566</td>\n",
       "    </tr>\n",
       "  </tbody>\n",
       "</table>\n",
       "</div>"
      ],
      "text/plain": [
       "                Feature  Importance_et\n",
       "40              Recency       0.108394\n",
       "12       Avg_Cmp_Accept       0.040152\n",
       "18             If_Accep       0.038371\n",
       "6    Aff_Mnt_Card_Games       0.037701\n",
       "30  NumCatalogPurchases       0.036575\n",
       "23        MntCard_Games       0.035445\n",
       "37           R_Discount       0.029052\n",
       "4          AcceptedCmp5       0.028310\n",
       "31    NumDealsPurchases       0.028186\n",
       "11                Alone       0.025457\n",
       "34    NumWebVisitsMonth       0.024309\n",
       "1          AcceptedCmp2       0.024205\n",
       "19               Income       0.023977\n",
       "29            Net_Worth       0.023224\n",
       "32    NumStorePurchases       0.022566"
      ]
     },
     "execution_count": 57,
     "metadata": {},
     "output_type": "execute_result"
    }
   ],
   "source": [
    "et_importance_agg.head(15)"
   ]
  },
  {
   "cell_type": "code",
   "execution_count": 58,
   "metadata": {},
   "outputs": [],
   "source": [
    "#For the simplicity, let's cut features, where importance is lower than 2%, which is equivalent to top21\n",
    "top21 = et_importance_agg.head(21)"
   ]
  },
  {
   "cell_type": "code",
   "execution_count": 59,
   "metadata": {},
   "outputs": [
    {
     "data": {
      "text/plain": [
       "['MntMiniatures',\n",
       " 'MntCard_Games',\n",
       " 'NumCatalogPurchases',\n",
       " 'Mnt_T',\n",
       " 'Freq',\n",
       " 'R_Mnt_T_Income',\n",
       " 'Physical_Purchases',\n",
       " 'R_Discount',\n",
       " 'R_Mnt_Freq',\n",
       " 'Physical_Worth']"
      ]
     },
     "execution_count": 59,
     "metadata": {},
     "output_type": "execute_result"
    }
   ],
   "source": [
    "#Now that we know the importance, we can exclude high correlated features, which are less important\n",
    "corr_matrix = correlation_results[0]\n",
    "correlation_results[1]"
   ]
  },
  {
   "cell_type": "markdown",
   "metadata": {},
   "source": [
    "##### We can see that MntCard_Games is correlated with NumCatalogPurchases. However, NumCatalogPurchases is more important when predicting if customer accepted camp (see the feature importance table above). Then, we can drop MntCardGames"
   ]
  },
  {
   "cell_type": "code",
   "execution_count": 60,
   "metadata": {},
   "outputs": [
    {
     "data": {
      "text/html": [
       "<div>\n",
       "<style scoped>\n",
       "    .dataframe tbody tr th:only-of-type {\n",
       "        vertical-align: middle;\n",
       "    }\n",
       "\n",
       "    .dataframe tbody tr th {\n",
       "        vertical-align: top;\n",
       "    }\n",
       "\n",
       "    .dataframe thead th {\n",
       "        text-align: right;\n",
       "    }\n",
       "</style>\n",
       "<table border=\"1\" class=\"dataframe\">\n",
       "  <thead>\n",
       "    <tr style=\"text-align: right;\">\n",
       "      <th></th>\n",
       "      <th>MntCard_Games</th>\n",
       "    </tr>\n",
       "  </thead>\n",
       "  <tbody>\n",
       "    <tr>\n",
       "      <th>Income</th>\n",
       "      <td>0.831326</td>\n",
       "    </tr>\n",
       "    <tr>\n",
       "      <th>MntMiniatures</th>\n",
       "      <td>0.829409</td>\n",
       "    </tr>\n",
       "    <tr>\n",
       "      <th>MntCard_Games</th>\n",
       "      <td>1.000000</td>\n",
       "    </tr>\n",
       "    <tr>\n",
       "      <th>NumCatalogPurchases</th>\n",
       "      <td>0.857859</td>\n",
       "    </tr>\n",
       "    <tr>\n",
       "      <th>Mnt_T</th>\n",
       "      <td>0.935688</td>\n",
       "    </tr>\n",
       "    <tr>\n",
       "      <th>R_Mnt_T_Income</th>\n",
       "      <td>0.882895</td>\n",
       "    </tr>\n",
       "    <tr>\n",
       "      <th>Physical_Purchases</th>\n",
       "      <td>0.876321</td>\n",
       "    </tr>\n",
       "    <tr>\n",
       "      <th>R_Mnt_Freq</th>\n",
       "      <td>0.925464</td>\n",
       "    </tr>\n",
       "  </tbody>\n",
       "</table>\n",
       "</div>"
      ],
      "text/plain": [
       "                     MntCard_Games\n",
       "Income                    0.831326\n",
       "MntMiniatures             0.829409\n",
       "MntCard_Games             1.000000\n",
       "NumCatalogPurchases       0.857859\n",
       "Mnt_T                     0.935688\n",
       "R_Mnt_T_Income            0.882895\n",
       "Physical_Purchases        0.876321\n",
       "R_Mnt_Freq                0.925464"
      ]
     },
     "execution_count": 60,
     "metadata": {},
     "output_type": "execute_result"
    }
   ],
   "source": [
    "corr_matrix.loc[corr_matrix['MntCard_Games']>0.8, ['MntCard_Games']]"
   ]
  },
  {
   "cell_type": "code",
   "execution_count": 61,
   "metadata": {},
   "outputs": [
    {
     "data": {
      "text/html": [
       "<div>\n",
       "<style scoped>\n",
       "    .dataframe tbody tr th:only-of-type {\n",
       "        vertical-align: middle;\n",
       "    }\n",
       "\n",
       "    .dataframe tbody tr th {\n",
       "        vertical-align: top;\n",
       "    }\n",
       "\n",
       "    .dataframe thead th {\n",
       "        text-align: right;\n",
       "    }\n",
       "</style>\n",
       "<table border=\"1\" class=\"dataframe\">\n",
       "  <thead>\n",
       "    <tr style=\"text-align: right;\">\n",
       "      <th></th>\n",
       "      <th>Physical_Worth</th>\n",
       "    </tr>\n",
       "  </thead>\n",
       "  <tbody>\n",
       "    <tr>\n",
       "      <th>NumWebVisitsMonth</th>\n",
       "      <td>0.859774</td>\n",
       "    </tr>\n",
       "    <tr>\n",
       "      <th>Physical_Purchases</th>\n",
       "      <td>0.832102</td>\n",
       "    </tr>\n",
       "    <tr>\n",
       "      <th>Physical_Worth</th>\n",
       "      <td>1.000000</td>\n",
       "    </tr>\n",
       "  </tbody>\n",
       "</table>\n",
       "</div>"
      ],
      "text/plain": [
       "                    Physical_Worth\n",
       "NumWebVisitsMonth         0.859774\n",
       "Physical_Purchases        0.832102\n",
       "Physical_Worth            1.000000"
      ]
     },
     "execution_count": 61,
     "metadata": {},
     "output_type": "execute_result"
    }
   ],
   "source": [
    "#Now, we repeat this procedure for all the features:\n",
    "\n",
    "#Exclude R_Discount as correlated with NumDealsPurchases and the 2nd variable is more important\n",
    "corr_matrix.loc[corr_matrix['R_Discount']>0.8, ['R_Discount']]\n",
    "#Exclude Physical_Worth as correlated with NumWebVisitsMonth and the 2nd variable is more important\n",
    "corr_matrix.loc[corr_matrix['Physical_Worth']>0.8, ['Physical_Worth']]"
   ]
  },
  {
   "cell_type": "code",
   "execution_count": 62,
   "metadata": {},
   "outputs": [],
   "source": [
    "#Prepare the final list of features\n",
    "to_exclude_numerical = ['MntCard_Games', 'R_Discount', 'Physical_Worth']\n",
    "top_21_list = top21['Feature']\n",
    "final_list_features = [x for x in top_21_list if x not in to_exclude_numerical]"
   ]
  },
  {
   "cell_type": "code",
   "execution_count": 63,
   "metadata": {},
   "outputs": [
    {
     "data": {
      "text/html": [
       "<div>\n",
       "<style scoped>\n",
       "    .dataframe tbody tr th:only-of-type {\n",
       "        vertical-align: middle;\n",
       "    }\n",
       "\n",
       "    .dataframe tbody tr th {\n",
       "        vertical-align: top;\n",
       "    }\n",
       "\n",
       "    .dataframe thead th {\n",
       "        text-align: right;\n",
       "    }\n",
       "</style>\n",
       "<table border=\"1\" class=\"dataframe\">\n",
       "  <thead>\n",
       "    <tr style=\"text-align: right;\">\n",
       "      <th></th>\n",
       "      <th>col1</th>\n",
       "      <th>col2</th>\n",
       "    </tr>\n",
       "  </thead>\n",
       "  <tbody>\n",
       "    <tr>\n",
       "      <th>24</th>\n",
       "      <td>AcceptedCmp2</td>\n",
       "      <td>If_Accep</td>\n",
       "    </tr>\n",
       "    <tr>\n",
       "      <th>35</th>\n",
       "      <td>AcceptedCmp3</td>\n",
       "      <td>If_Accep</td>\n",
       "    </tr>\n",
       "    <tr>\n",
       "      <th>45</th>\n",
       "      <td>AcceptedCmp4</td>\n",
       "      <td>If_Accep</td>\n",
       "    </tr>\n",
       "    <tr>\n",
       "      <th>54</th>\n",
       "      <td>AcceptedCmp5</td>\n",
       "      <td>If_Accep</td>\n",
       "    </tr>\n",
       "    <tr>\n",
       "      <th>67</th>\n",
       "      <td>AcceptedCmp1</td>\n",
       "      <td>If_Accep</td>\n",
       "    </tr>\n",
       "  </tbody>\n",
       "</table>\n",
       "</div>"
      ],
      "text/plain": [
       "            col1      col2\n",
       "24  AcceptedCmp2  If_Accep\n",
       "35  AcceptedCmp3  If_Accep\n",
       "45  AcceptedCmp4  If_Accep\n",
       "54  AcceptedCmp5  If_Accep\n",
       "67  AcceptedCmp1  If_Accep"
      ]
     },
     "execution_count": 63,
     "metadata": {},
     "output_type": "execute_result"
    }
   ],
   "source": [
    "#Let's do the same with categorical features\n",
    "chi_square_results = correlation_results[2]\n",
    "chi_square_results.loc[(chi_square_results['Result']=='Dependent') & ((chi_square_results['col1']=='If_Accep') | (chi_square_results['col2']=='If_Accep')) , ['col1','col2']]"
   ]
  },
  {
   "cell_type": "code",
   "execution_count": 64,
   "metadata": {},
   "outputs": [],
   "source": [
    "#Let's exclude AcceptedCmp5 and AcceptedCmp2 as these variables are correlated with If_Accep and the last one is more important\n",
    "final_list_features.remove('AcceptedCmp2')\n",
    "final_list_features.remove('AcceptedCmp5')"
   ]
  },
  {
   "cell_type": "markdown",
   "metadata": {},
   "source": [
    "# Train Gradient Boosting model"
   ]
  },
  {
   "cell_type": "code",
   "execution_count": 65,
   "metadata": {},
   "outputs": [],
   "source": [
    "train_data_final = filtered_imputed_data [['Recency',\n",
    " 'Avg_Cmp_Accept',\n",
    " 'If_Accep',\n",
    " 'Aff_Mnt_Card_Games',\n",
    " 'NumCatalogPurchases',\n",
    " 'NumDealsPurchases',\n",
    " 'Alone',\n",
    " 'NumWebVisitsMonth',\n",
    " 'Income',\n",
    " 'Aff_Miniat',\n",
    " 'Freq',\n",
    " 'Dt_Customer',\n",
    " 'NumStorePurchases',\n",
    " 'Year_Birth',\n",
    " 'Net_Worth',\n",
    " 'Aff_MntBrand_A_Material',\n",
    " 'DepVar']]"
   ]
  },
  {
   "cell_type": "code",
   "execution_count": 66,
   "metadata": {},
   "outputs": [
    {
     "name": "stderr",
     "output_type": "stream",
     "text": [
      "C:\\Users\\I347687\\AppData\\Roaming\\Python\\Python37\\site-packages\\ipykernel_launcher.py:6: SettingWithCopyWarning: \n",
      "A value is trying to be set on a copy of a slice from a DataFrame.\n",
      "Try using .loc[row_indexer,col_indexer] = value instead\n",
      "\n",
      "See the caveats in the documentation: https://pandas.pydata.org/pandas-docs/stable/user_guide/indexing.html#returning-a-view-versus-a-copy\n",
      "  \n"
     ]
    },
    {
     "data": {
      "text/html": [
       "<div>\n",
       "<style scoped>\n",
       "    .dataframe tbody tr th:only-of-type {\n",
       "        vertical-align: middle;\n",
       "    }\n",
       "\n",
       "    .dataframe tbody tr th {\n",
       "        vertical-align: top;\n",
       "    }\n",
       "\n",
       "    .dataframe thead th {\n",
       "        text-align: right;\n",
       "    }\n",
       "</style>\n",
       "<table border=\"1\" class=\"dataframe\">\n",
       "  <thead>\n",
       "    <tr style=\"text-align: right;\">\n",
       "      <th></th>\n",
       "      <th>Recency</th>\n",
       "      <th>Avg_Cmp_Accept</th>\n",
       "      <th>If_Accep</th>\n",
       "      <th>Aff_Mnt_Card_Games</th>\n",
       "      <th>NumCatalogPurchases</th>\n",
       "      <th>NumDealsPurchases</th>\n",
       "      <th>Alone</th>\n",
       "      <th>NumWebVisitsMonth</th>\n",
       "      <th>Income</th>\n",
       "      <th>Aff_Miniat</th>\n",
       "      <th>Freq</th>\n",
       "      <th>Dt_Customer</th>\n",
       "      <th>NumStorePurchases</th>\n",
       "      <th>Year_Birth</th>\n",
       "      <th>Net_Worth</th>\n",
       "      <th>Aff_MntBrand_A_Material</th>\n",
       "      <th>DepVar</th>\n",
       "    </tr>\n",
       "  </thead>\n",
       "  <tbody>\n",
       "    <tr>\n",
       "      <th>0</th>\n",
       "      <td>6</td>\n",
       "      <td>0.0</td>\n",
       "      <td>0</td>\n",
       "      <td>46.153846</td>\n",
       "      <td>4</td>\n",
       "      <td>1</td>\n",
       "      <td>1</td>\n",
       "      <td>1</td>\n",
       "      <td>101721.0</td>\n",
       "      <td>44.520548</td>\n",
       "      <td>22</td>\n",
       "      <td>603</td>\n",
       "      <td>9</td>\n",
       "      <td>16</td>\n",
       "      <td>0.318182</td>\n",
       "      <td>2.054795</td>\n",
       "      <td>0</td>\n",
       "    </tr>\n",
       "    <tr>\n",
       "      <th>1</th>\n",
       "      <td>65</td>\n",
       "      <td>0.2</td>\n",
       "      <td>1</td>\n",
       "      <td>43.820225</td>\n",
       "      <td>3</td>\n",
       "      <td>5</td>\n",
       "      <td>0</td>\n",
       "      <td>9</td>\n",
       "      <td>20148.0</td>\n",
       "      <td>29.213483</td>\n",
       "      <td>28</td>\n",
       "      <td>445</td>\n",
       "      <td>4</td>\n",
       "      <td>29</td>\n",
       "      <td>0.250000</td>\n",
       "      <td>23.595506</td>\n",
       "      <td>1</td>\n",
       "    </tr>\n",
       "    <tr>\n",
       "      <th>2</th>\n",
       "      <td>54</td>\n",
       "      <td>0.4</td>\n",
       "      <td>1</td>\n",
       "      <td>49.488260</td>\n",
       "      <td>8</td>\n",
       "      <td>1</td>\n",
       "      <td>0</td>\n",
       "      <td>3</td>\n",
       "      <td>86028.0</td>\n",
       "      <td>22.817580</td>\n",
       "      <td>32</td>\n",
       "      <td>571</td>\n",
       "      <td>9</td>\n",
       "      <td>27</td>\n",
       "      <td>0.343750</td>\n",
       "      <td>3.792896</td>\n",
       "      <td>0</td>\n",
       "    </tr>\n",
       "    <tr>\n",
       "      <th>4</th>\n",
       "      <td>31</td>\n",
       "      <td>0.0</td>\n",
       "      <td>0</td>\n",
       "      <td>30.000000</td>\n",
       "      <td>2</td>\n",
       "      <td>1</td>\n",
       "      <td>0</td>\n",
       "      <td>9</td>\n",
       "      <td>45261.0</td>\n",
       "      <td>30.000000</td>\n",
       "      <td>20</td>\n",
       "      <td>114</td>\n",
       "      <td>3</td>\n",
       "      <td>32</td>\n",
       "      <td>0.250000</td>\n",
       "      <td>23.333333</td>\n",
       "      <td>0</td>\n",
       "    </tr>\n",
       "    <tr>\n",
       "      <th>5</th>\n",
       "      <td>72</td>\n",
       "      <td>0.0</td>\n",
       "      <td>0</td>\n",
       "      <td>58.406114</td>\n",
       "      <td>13</td>\n",
       "      <td>1</td>\n",
       "      <td>1</td>\n",
       "      <td>5</td>\n",
       "      <td>101489.0</td>\n",
       "      <td>21.124454</td>\n",
       "      <td>44</td>\n",
       "      <td>302</td>\n",
       "      <td>12</td>\n",
       "      <td>33</td>\n",
       "      <td>0.295455</td>\n",
       "      <td>11.572052</td>\n",
       "      <td>1</td>\n",
       "    </tr>\n",
       "  </tbody>\n",
       "</table>\n",
       "</div>"
      ],
      "text/plain": [
       "   Recency  Avg_Cmp_Accept  If_Accep  Aff_Mnt_Card_Games  NumCatalogPurchases  \\\n",
       "0        6             0.0         0           46.153846                    4   \n",
       "1       65             0.2         1           43.820225                    3   \n",
       "2       54             0.4         1           49.488260                    8   \n",
       "4       31             0.0         0           30.000000                    2   \n",
       "5       72             0.0         0           58.406114                   13   \n",
       "\n",
       "   NumDealsPurchases  Alone  NumWebVisitsMonth    Income  Aff_Miniat  Freq  \\\n",
       "0                  1      1                  1  101721.0   44.520548    22   \n",
       "1                  5      0                  9   20148.0   29.213483    28   \n",
       "2                  1      0                  3   86028.0   22.817580    32   \n",
       "4                  1      0                  9   45261.0   30.000000    20   \n",
       "5                  1      1                  5  101489.0   21.124454    44   \n",
       "\n",
       "   Dt_Customer  NumStorePurchases  Year_Birth  Net_Worth  \\\n",
       "0          603                  9          16   0.318182   \n",
       "1          445                  4          29   0.250000   \n",
       "2          571                  9          27   0.343750   \n",
       "4          114                  3          32   0.250000   \n",
       "5          302                 12          33   0.295455   \n",
       "\n",
       "   Aff_MntBrand_A_Material  DepVar  \n",
       "0                 2.054795       0  \n",
       "1                23.595506       1  \n",
       "2                 3.792896       0  \n",
       "4                23.333333       0  \n",
       "5                11.572052       1  "
      ]
     },
     "execution_count": 66,
     "metadata": {},
     "output_type": "execute_result"
    }
   ],
   "source": [
    "#Encode categorical data\n",
    "categorical_features = list(train_data_final.select_dtypes(exclude=[\"number\"]).columns)\n",
    "le = LabelEncoder()\n",
    "for i in range(len(categorical_features)):\n",
    "    new = le.fit_transform(train_data_final[categorical_features[i]])\n",
    "    train_data_final[categorical_features[i]] = new\n",
    "train_data_final.head()"
   ]
  },
  {
   "cell_type": "code",
   "execution_count": 67,
   "metadata": {},
   "outputs": [],
   "source": [
    "#Splitting the data into independent and dependent variables\n",
    "X = train_data_final.iloc[:,0:16].values\n",
    "y = train_data_final.iloc[:,16].values\n",
    "X_train, X_test, y_train, y_test = train_test_split(X, y, test_size = 0.25, random_state = 21, stratify = y)"
   ]
  },
  {
   "cell_type": "markdown",
   "metadata": {},
   "source": [
    "#### In the below loop we are doing hyperparameter tunning. The goal is to find the best possible combinations of parameters for ML algorithm, which would maximaze the accuracy of our model"
   ]
  },
  {
   "cell_type": "code",
   "execution_count": 68,
   "metadata": {},
   "outputs": [
    {
     "name": "stdout",
     "output_type": "stream",
     "text": [
      "Learning rate: 0.05\n",
      "Accuracy score (training): 0.879\n",
      "Accuracy score (validation): 0.878\n",
      "Learning rate: 0.05\n",
      "Accuracy score (training): 0.879\n",
      "Accuracy score (validation): 0.878\n",
      "Learning rate: 0.05\n",
      "Accuracy score (training): 0.879\n",
      "Accuracy score (validation): 0.878\n",
      "Learning rate: 0.05\n",
      "Accuracy score (training): 0.884\n",
      "Accuracy score (validation): 0.881\n",
      "Learning rate: 0.05\n",
      "Accuracy score (training): 0.879\n",
      "Accuracy score (validation): 0.878\n",
      "Learning rate: 0.05\n",
      "Accuracy score (training): 0.880\n",
      "Accuracy score (validation): 0.878\n",
      "Learning rate: 0.075\n",
      "Accuracy score (training): 0.887\n",
      "Accuracy score (validation): 0.884\n",
      "Learning rate: 0.075\n",
      "Accuracy score (training): 0.900\n",
      "Accuracy score (validation): 0.896\n",
      "Learning rate: 0.075\n",
      "Accuracy score (training): 0.920\n",
      "Accuracy score (validation): 0.902\n",
      "Learning rate: 0.075\n",
      "Accuracy score (training): 0.939\n",
      "Accuracy score (validation): 0.906\n",
      "Learning rate: 0.075\n",
      "Accuracy score (training): 0.956\n",
      "Accuracy score (validation): 0.914\n",
      "Learning rate: 0.075\n",
      "Accuracy score (training): 0.973\n",
      "Accuracy score (validation): 0.912\n",
      "Learning rate: 0.1\n",
      "Accuracy score (training): 0.901\n",
      "Accuracy score (validation): 0.888\n",
      "Learning rate: 0.1\n",
      "Accuracy score (training): 0.917\n",
      "Accuracy score (validation): 0.898\n",
      "Learning rate: 0.1\n",
      "Accuracy score (training): 0.942\n",
      "Accuracy score (validation): 0.911\n",
      "Learning rate: 0.1\n",
      "Accuracy score (training): 0.957\n",
      "Accuracy score (validation): 0.917\n",
      "Learning rate: 0.1\n",
      "Accuracy score (training): 0.966\n",
      "Accuracy score (validation): 0.921\n",
      "Learning rate: 0.1\n",
      "Accuracy score (training): 0.982\n",
      "Accuracy score (validation): 0.912\n",
      "Learning rate: 0.25\n",
      "Accuracy score (training): 0.929\n",
      "Accuracy score (validation): 0.907\n",
      "Learning rate: 0.25\n",
      "Accuracy score (training): 0.951\n",
      "Accuracy score (validation): 0.919\n",
      "Learning rate: 0.25\n",
      "Accuracy score (training): 0.973\n",
      "Accuracy score (validation): 0.922\n",
      "Learning rate: 0.25\n",
      "Accuracy score (training): 0.990\n",
      "Accuracy score (validation): 0.926\n",
      "Learning rate: 0.25\n",
      "Accuracy score (training): 0.999\n",
      "Accuracy score (validation): 0.931\n",
      "Learning rate: 0.25\n",
      "Accuracy score (training): 1.000\n",
      "Accuracy score (validation): 0.919\n",
      "Learning rate: 0.05\n",
      "Accuracy score (training): 0.894\n",
      "Accuracy score (validation): 0.888\n",
      "Learning rate: 0.05\n",
      "Accuracy score (training): 0.915\n",
      "Accuracy score (validation): 0.899\n",
      "Learning rate: 0.05\n",
      "Accuracy score (training): 0.945\n",
      "Accuracy score (validation): 0.914\n",
      "Learning rate: 0.05\n",
      "Accuracy score (training): 0.950\n",
      "Accuracy score (validation): 0.912\n",
      "Learning rate: 0.05\n",
      "Accuracy score (training): 0.969\n",
      "Accuracy score (validation): 0.919\n",
      "Learning rate: 0.05\n",
      "Accuracy score (training): 0.982\n",
      "Accuracy score (validation): 0.911\n",
      "Learning rate: 0.075\n",
      "Accuracy score (training): 0.911\n",
      "Accuracy score (validation): 0.894\n",
      "Learning rate: 0.075\n",
      "Accuracy score (training): 0.935\n",
      "Accuracy score (validation): 0.916\n",
      "Learning rate: 0.075\n",
      "Accuracy score (training): 0.955\n",
      "Accuracy score (validation): 0.912\n",
      "Learning rate: 0.075\n",
      "Accuracy score (training): 0.972\n",
      "Accuracy score (validation): 0.921\n",
      "Learning rate: 0.075\n",
      "Accuracy score (training): 0.982\n",
      "Accuracy score (validation): 0.922\n",
      "Learning rate: 0.075\n",
      "Accuracy score (training): 0.992\n",
      "Accuracy score (validation): 0.922\n",
      "Learning rate: 0.1\n",
      "Accuracy score (training): 0.917\n",
      "Accuracy score (validation): 0.902\n",
      "Learning rate: 0.1\n",
      "Accuracy score (training): 0.944\n",
      "Accuracy score (validation): 0.916\n",
      "Learning rate: 0.1\n",
      "Accuracy score (training): 0.963\n",
      "Accuracy score (validation): 0.919\n",
      "Learning rate: 0.1\n",
      "Accuracy score (training): 0.985\n",
      "Accuracy score (validation): 0.927\n",
      "Learning rate: 0.1\n",
      "Accuracy score (training): 0.991\n",
      "Accuracy score (validation): 0.927\n",
      "Learning rate: 0.1\n",
      "Accuracy score (training): 0.997\n",
      "Accuracy score (validation): 0.932\n",
      "Learning rate: 0.25\n",
      "Accuracy score (training): 0.950\n",
      "Accuracy score (validation): 0.921\n",
      "Learning rate: 0.25\n",
      "Accuracy score (training): 0.975\n",
      "Accuracy score (validation): 0.937\n",
      "Learning rate: 0.25\n",
      "Accuracy score (training): 0.992\n",
      "Accuracy score (validation): 0.932\n",
      "Learning rate: 0.25\n",
      "Accuracy score (training): 0.999\n",
      "Accuracy score (validation): 0.932\n",
      "Learning rate: 0.25\n",
      "Accuracy score (training): 1.000\n",
      "Accuracy score (validation): 0.940\n",
      "Learning rate: 0.25\n",
      "Accuracy score (training): 1.000\n",
      "Accuracy score (validation): 0.929\n",
      "Learning rate: 0.05\n",
      "Accuracy score (training): 0.911\n",
      "Accuracy score (validation): 0.893\n",
      "Learning rate: 0.05\n",
      "Accuracy score (training): 0.930\n",
      "Accuracy score (validation): 0.912\n",
      "Learning rate: 0.05\n",
      "Accuracy score (training): 0.954\n",
      "Accuracy score (validation): 0.916\n",
      "Learning rate: 0.05\n",
      "Accuracy score (training): 0.972\n",
      "Accuracy score (validation): 0.924\n",
      "Learning rate: 0.05\n",
      "Accuracy score (training): 0.982\n",
      "Accuracy score (validation): 0.927\n",
      "Learning rate: 0.05\n",
      "Accuracy score (training): 0.991\n",
      "Accuracy score (validation): 0.926\n",
      "Learning rate: 0.075\n",
      "Accuracy score (training): 0.923\n",
      "Accuracy score (validation): 0.906\n",
      "Learning rate: 0.075\n",
      "Accuracy score (training): 0.947\n",
      "Accuracy score (validation): 0.919\n",
      "Learning rate: 0.075\n",
      "Accuracy score (training): 0.967\n",
      "Accuracy score (validation): 0.924\n",
      "Learning rate: 0.075\n",
      "Accuracy score (training): 0.984\n",
      "Accuracy score (validation): 0.934\n",
      "Learning rate: 0.075\n",
      "Accuracy score (training): 0.993\n",
      "Accuracy score (validation): 0.926\n",
      "Learning rate: 0.075\n",
      "Accuracy score (training): 0.997\n",
      "Accuracy score (validation): 0.932\n",
      "Learning rate: 0.1\n",
      "Accuracy score (training): 0.930\n",
      "Accuracy score (validation): 0.906\n",
      "Learning rate: 0.1\n",
      "Accuracy score (training): 0.955\n",
      "Accuracy score (validation): 0.919\n",
      "Learning rate: 0.1\n",
      "Accuracy score (training): 0.977\n",
      "Accuracy score (validation): 0.922\n",
      "Learning rate: 0.1\n",
      "Accuracy score (training): 0.991\n",
      "Accuracy score (validation): 0.926\n",
      "Learning rate: 0.1\n",
      "Accuracy score (training): 0.997\n",
      "Accuracy score (validation): 0.927\n",
      "Learning rate: 0.1\n",
      "Accuracy score (training): 0.999\n",
      "Accuracy score (validation): 0.934\n",
      "Learning rate: 0.25\n",
      "Accuracy score (training): 0.959\n",
      "Accuracy score (validation): 0.929\n",
      "Learning rate: 0.25\n",
      "Accuracy score (training): 0.985\n",
      "Accuracy score (validation): 0.944\n",
      "Learning rate: 0.25\n",
      "Accuracy score (training): 0.997\n",
      "Accuracy score (validation): 0.937\n",
      "Learning rate: 0.25\n",
      "Accuracy score (training): 1.000\n",
      "Accuracy score (validation): 0.932\n",
      "Learning rate: 0.25\n",
      "Accuracy score (training): 1.000\n",
      "Accuracy score (validation): 0.937\n",
      "Learning rate: 0.25\n",
      "Accuracy score (training): 1.000\n",
      "Accuracy score (validation): 0.927\n",
      "Learning rate: 0.05\n",
      "Accuracy score (training): 0.916\n",
      "Accuracy score (validation): 0.901\n",
      "Learning rate: 0.05\n",
      "Accuracy score (training): 0.940\n",
      "Accuracy score (validation): 0.912\n",
      "Learning rate: 0.05\n",
      "Accuracy score (training): 0.961\n",
      "Accuracy score (validation): 0.921\n",
      "Learning rate: 0.05\n",
      "Accuracy score (training): 0.983\n",
      "Accuracy score (validation): 0.927\n",
      "Learning rate: 0.05\n",
      "Accuracy score (training): 0.990\n",
      "Accuracy score (validation): 0.924\n",
      "Learning rate: 0.05\n",
      "Accuracy score (training): 0.996\n",
      "Accuracy score (validation): 0.931\n",
      "Learning rate: 0.075\n",
      "Accuracy score (training): 0.929\n",
      "Accuracy score (validation): 0.907\n",
      "Learning rate: 0.075\n",
      "Accuracy score (training): 0.956\n",
      "Accuracy score (validation): 0.922\n",
      "Learning rate: 0.075\n",
      "Accuracy score (training): 0.978\n",
      "Accuracy score (validation): 0.932\n",
      "Learning rate: 0.075\n",
      "Accuracy score (training): 0.991\n",
      "Accuracy score (validation): 0.929\n",
      "Learning rate: 0.075\n",
      "Accuracy score (training): 0.997\n",
      "Accuracy score (validation): 0.926\n",
      "Learning rate: 0.075\n",
      "Accuracy score (training): 0.999\n",
      "Accuracy score (validation): 0.939\n",
      "Learning rate: 0.1\n",
      "Accuracy score (training): 0.942\n",
      "Accuracy score (validation): 0.912\n",
      "Learning rate: 0.1\n",
      "Accuracy score (training): 0.966\n",
      "Accuracy score (validation): 0.926\n",
      "Learning rate: 0.1\n",
      "Accuracy score (training): 0.987\n",
      "Accuracy score (validation): 0.936\n",
      "Learning rate: 0.1\n",
      "Accuracy score (training): 0.996\n",
      "Accuracy score (validation): 0.926\n",
      "Learning rate: 0.1\n",
      "Accuracy score (training): 1.000\n",
      "Accuracy score (validation): 0.929\n",
      "Learning rate: 0.1\n",
      "Accuracy score (training): 1.000\n",
      "Accuracy score (validation): 0.934\n",
      "Learning rate: 0.25\n",
      "Accuracy score (training): 0.971\n",
      "Accuracy score (validation): 0.940\n",
      "Learning rate: 0.25\n",
      "Accuracy score (training): 0.991\n",
      "Accuracy score (validation): 0.947\n",
      "Learning rate: 0.25\n",
      "Accuracy score (training): 0.999\n",
      "Accuracy score (validation): 0.944\n",
      "Learning rate: 0.25\n",
      "Accuracy score (training): 1.000\n",
      "Accuracy score (validation): 0.942\n"
     ]
    },
    {
     "name": "stdout",
     "output_type": "stream",
     "text": [
      "Learning rate: 0.25\n",
      "Accuracy score (training): 1.000\n",
      "Accuracy score (validation): 0.940\n",
      "Learning rate: 0.25\n",
      "Accuracy score (training): 1.000\n",
      "Accuracy score (validation): 0.934\n"
     ]
    }
   ],
   "source": [
    "#Hyperparameter tunning\n",
    "model_metadata = []\n",
    "\n",
    "n_estimators = [10,20,30,40]\n",
    "max_depth = [2,3,4,5,6,7]\n",
    "lr_list = [0.05, 0.075, 0.1, 0.25]\n",
    "\n",
    "for n_est in n_estimators:\n",
    "    for lr in lr_list:\n",
    "        for max_d in max_depth:\n",
    "            \n",
    "            gb_clf = GradientBoostingClassifier(n_estimators=n_est, \n",
    "                                                            learning_rate=lr, \n",
    "                                                            max_depth=max_d, random_state=0)\n",
    "            gb_clf.fit(X_train, y_train)\n",
    "            print(\"Learning rate: \" + str(lr))\n",
    "            print(\"Accuracy score (training): {0:.3f}\".format(gb_clf.score(X_train, y_train)))\n",
    "            print(\"Accuracy score (validation): {0:.3f}\".format(gb_clf.score(X_test, y_test)))\n",
    "            model_metadata.append([n_est, lr, max_d, gb_clf.score(X_train, y_train), gb_clf.score(X_test, y_test)])\n",
    "            model_metadata_df = pd.DataFrame(model_metadata, columns=['N_estimators', 'Learning_rate', 'Max_depth', 'Accuracy_train',\n",
    "                                                                      'Accuracy_test'])\n",
    "            model_metadata_df = model_metadata_df.sort_values(by='Accuracy_test', ascending=False)"
   ]
  },
  {
   "cell_type": "markdown",
   "metadata": {},
   "source": [
    "##### As we can see, the best result is given by N_estimators=40, Learning rate=0.25 and max_depth=3"
   ]
  },
  {
   "cell_type": "code",
   "execution_count": 69,
   "metadata": {},
   "outputs": [
    {
     "data": {
      "text/html": [
       "<div>\n",
       "<style scoped>\n",
       "    .dataframe tbody tr th:only-of-type {\n",
       "        vertical-align: middle;\n",
       "    }\n",
       "\n",
       "    .dataframe tbody tr th {\n",
       "        vertical-align: top;\n",
       "    }\n",
       "\n",
       "    .dataframe thead th {\n",
       "        text-align: right;\n",
       "    }\n",
       "</style>\n",
       "<table border=\"1\" class=\"dataframe\">\n",
       "  <thead>\n",
       "    <tr style=\"text-align: right;\">\n",
       "      <th></th>\n",
       "      <th>N_estimators</th>\n",
       "      <th>Learning_rate</th>\n",
       "      <th>Max_depth</th>\n",
       "      <th>Accuracy_train</th>\n",
       "      <th>Accuracy_test</th>\n",
       "    </tr>\n",
       "  </thead>\n",
       "  <tbody>\n",
       "    <tr>\n",
       "      <th>91</th>\n",
       "      <td>40</td>\n",
       "      <td>0.25</td>\n",
       "      <td>3</td>\n",
       "      <td>0.991175</td>\n",
       "      <td>0.947107</td>\n",
       "    </tr>\n",
       "  </tbody>\n",
       "</table>\n",
       "</div>"
      ],
      "text/plain": [
       "    N_estimators  Learning_rate  Max_depth  Accuracy_train  Accuracy_test\n",
       "91            40           0.25          3        0.991175       0.947107"
      ]
     },
     "execution_count": 69,
     "metadata": {},
     "output_type": "execute_result"
    }
   ],
   "source": [
    "model_metadata_df.head(1)"
   ]
  },
  {
   "cell_type": "code",
   "execution_count": 70,
   "metadata": {},
   "outputs": [
    {
     "name": "stdout",
     "output_type": "stream",
     "text": [
      "[[522   9]\n",
      " [ 23  51]]\n",
      "              precision    recall  f1-score   support\n",
      "\n",
      "           0       0.96      0.98      0.97       531\n",
      "           1       0.85      0.69      0.76        74\n",
      "\n",
      "    accuracy                           0.95       605\n",
      "   macro avg       0.90      0.84      0.87       605\n",
      "weighted avg       0.94      0.95      0.94       605\n",
      "\n",
      "0.947107438016529\n"
     ]
    }
   ],
   "source": [
    "gb_clf = GradientBoostingClassifier(n_estimators=40, learning_rate=0.25, max_depth=3, random_state=0)\n",
    "gb_clf.fit(X_train, y_train)\n",
    "predictions = gb_clf.predict(X_test)\n",
    "\n",
    "print(confusion_matrix(y_test, predictions))\n",
    "print(classification_report(y_test, predictions))\n",
    "print(accuracy_score(y_test, predictions))"
   ]
  }
 ],
 "metadata": {
  "kernelspec": {
   "display_name": "myenv",
   "language": "python",
   "name": "myenv"
  },
  "language_info": {
   "codemirror_mode": {
    "name": "ipython",
    "version": 3
   },
   "file_extension": ".py",
   "mimetype": "text/x-python",
   "name": "python",
   "nbconvert_exporter": "python",
   "pygments_lexer": "ipython3",
   "version": "3.7.9"
  }
 },
 "nbformat": 4,
 "nbformat_minor": 2
}
